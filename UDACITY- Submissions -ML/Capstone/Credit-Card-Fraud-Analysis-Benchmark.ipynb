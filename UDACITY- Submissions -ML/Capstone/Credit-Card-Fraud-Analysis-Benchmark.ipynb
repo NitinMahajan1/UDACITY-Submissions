{
 "cells": [
  {
   "cell_type": "markdown",
   "metadata": {},
   "source": [
    "# Import Libraries"
   ]
  },
  {
   "cell_type": "code",
   "execution_count": 68,
   "metadata": {
    "ExecuteTime": {
     "end_time": "2018-06-14T09:54:16.776357Z",
     "start_time": "2018-06-14T09:54:16.744274Z"
    }
   },
   "outputs": [],
   "source": [
    "'''Import libraries'''\n",
    "import pandas as pd\n",
    "from time import time\n",
    "import matplotlib.pyplot as plt\n",
    "import seaborn as sns\n",
    "from sklearn.cross_validation import train_test_split\n",
    "from sklearn.linear_model import LogisticRegression, RidgeClassifier\n",
    "from sklearn.tree import DecisionTreeClassifier\n",
    "from sklearn.ensemble import AdaBoostClassifier\n",
    "import lightgbm as lgb\n",
    "from sklearn.metrics import precision_score, recall_score, confusion_matrix, classification_report,confusion_matrix\n",
    "from sklearn.metrics import average_precision_score, roc_curve, precision_recall_curve, fbeta_score, f1_score\n",
    "from collections import Counter"
   ]
  },
  {
   "cell_type": "markdown",
   "metadata": {},
   "source": [
    "# Importing Data"
   ]
  },
  {
   "cell_type": "code",
   "execution_count": 69,
   "metadata": {
    "ExecuteTime": {
     "end_time": "2018-06-14T09:54:28.073394Z",
     "start_time": "2018-06-14T09:54:17.718864Z"
    }
   },
   "outputs": [
    {
     "name": "stdout",
     "output_type": "stream",
     "text": [
      "Credit Card dataset has 284807 samples with 31 features each.\n"
     ]
    }
   ],
   "source": [
    "data = pd.read_csv(\"creditcard.csv\")\n",
    "data.head()\n",
    "try:\n",
    "    data = pd.read_csv(\"creditcard.csv\")\n",
    "    print((\"Credit Card dataset has {} samples with {} features each.\").format(*data.shape))\n",
    "except:\n",
    "    print( \"Dataset could not be loaded. Is the dataset missing?\")"
   ]
  },
  {
   "cell_type": "markdown",
   "metadata": {},
   "source": [
    "# Data Exploration"
   ]
  },
  {
   "cell_type": "code",
   "execution_count": 70,
   "metadata": {
    "ExecuteTime": {
     "end_time": "2018-06-14T09:54:28.354140Z",
     "start_time": "2018-06-14T09:54:28.076403Z"
    }
   },
   "outputs": [
    {
     "name": "stdout",
     "output_type": "stream",
     "text": [
      "Total records count  284807\n",
      "Fraud records count  492\n",
      "Non Fraud records count  284315\n"
     ]
    },
    {
     "data": {
      "image/png": "[encoded data removed]",
      "text/plain": [
       "<Figure size 864x432 with 1 Axes>"
      ]
     },
     "metadata": {},
     "output_type": "display_data"
    }
   ],
   "source": [
    "total_count = data.Class.count()\n",
    "frauds_count = data.Class[data.Class == 1].count()\n",
    "non_fraud_counts = data.Class[data.Class == 0].count()\n",
    "\n",
    "print(\"Total records count  {}\".format(total_count))\n",
    "print(\"Fraud records count  {}\".format(frauds_count))\n",
    "print(\"Non Fraud records count  {}\".format(non_fraud_counts))\n",
    "\n",
    "#Graph\n",
    "my_palette = {0: 'deepskyblue', 1: 'deeppink'}\n",
    "\n",
    "plt.figure(figsize = (12, 6))\n",
    "sns.countplot(x = 'Class', data = data, palette = my_palette)\n",
    "plt.title('Class Distribution')\n",
    "plt.show()"
   ]
  },
  {
   "cell_type": "markdown",
   "metadata": {},
   "source": [
    "# Separate features and labels"
   ]
  },
  {
   "cell_type": "code",
   "execution_count": 71,
   "metadata": {
    "ExecuteTime": {
     "end_time": "2018-06-14T09:54:28.451401Z",
     "start_time": "2018-06-14T09:54:28.356146Z"
    }
   },
   "outputs": [],
   "source": [
    "features  = data.drop([\"Class\"],axis=1)\n",
    "label = data.Class"
   ]
  },
  {
   "cell_type": "markdown",
   "metadata": {},
   "source": [
    "# Split into Train, Test & Validation datasets (for Neural Nets)"
   ]
  },
  {
   "cell_type": "code",
   "execution_count": 72,
   "metadata": {
    "ExecuteTime": {
     "end_time": "2018-06-14T09:54:28.995848Z",
     "start_time": "2018-06-14T09:54:28.455412Z"
    }
   },
   "outputs": [
    {
     "name": "stdout",
     "output_type": "stream",
     "text": [
      "\n",
      "Splitting data into Train,Test & Validation...\n",
      "\n",
      "Display Split Dataset Summary...\n",
      "Split percent for test set 0.2\n",
      "Orignal set has 284807 samples'\n",
      "Training set has 182276 samples\n",
      "Validation set has 45569 samples\n",
      "Testing set has 56962 samples\n"
     ]
    }
   ],
   "source": [
    "def get_train_test_val(features_final, label2, test_size=0.3):\n",
    "    print(\"\\nSplitting data into Train,Test & Validation...\")\n",
    "    X_train, X_test, y_train, y_test = train_test_split(features_final,\n",
    "                                                    label2,\n",
    "                                                    test_size = test_size,\n",
    "                                                    random_state=0)\n",
    "#     X_val = None\n",
    "    X_train, X_val, y_train, y_val   = train_test_split(X_train,\n",
    "                                                    y_train,\n",
    "                                                    test_size = 0.2,\n",
    "                                                    random_state=0)\n",
    "    return(X_train, X_test ,X_val, y_train, y_test,  y_val)\n",
    "\n",
    "def print_summary(X_train, X_test, X_val, features,test_size):\n",
    "    print(\"\\nDisplay Split Dataset Summary...\")\n",
    "    print(\"Split percent for test set {}\".format(round(test_size, 2)))\n",
    "    print(\"Orignal set has {} samples'\".format(features.shape[0]))\n",
    "    print('Training set has {} samples'.format(X_train.shape[0]))\n",
    "    print('Validation set has {} samples'.format(X_val.shape[0]))\n",
    "    print('Testing set has {} samples'.format(X_test.shape[0]))\n",
    "\n",
    "test_size = 0.2\n",
    "X_train, X_test ,X_val, y_train, y_test,  y_val = get_train_test_val(features, label, test_size)\n",
    "\n",
    "#Print summary of datasets\n",
    "print_summary(X_train, X_test, X_val, features,test_size)"
   ]
  },
  {
   "cell_type": "markdown",
   "metadata": {},
   "source": [
    "# Split into train and test data"
   ]
  },
  {
   "cell_type": "code",
   "execution_count": 73,
   "metadata": {
    "ExecuteTime": {
     "end_time": "2018-06-14T09:54:29.280604Z",
     "start_time": "2018-06-14T09:54:28.999859Z"
    }
   },
   "outputs": [
    {
     "name": "stdout",
     "output_type": "stream",
     "text": [
      "\n",
      "Display Split Dataset Summary...\n",
      "Orignal set has 284807 samples'\n",
      "Training set has 199364 samples\n",
      "Testing set has 85443 samples\n"
     ]
    }
   ],
   "source": [
    "def get_train_test_data(X,y):\n",
    "    X_train,X_test,y_train,y_test = train_test_split(X,y,test_size=.3)\n",
    "    return(X_train,X_test,y_train,y_test)\n",
    "\n",
    "X_train, X_test , y_train, y_test =get_train_test_data(features,label)\n",
    "\n",
    "print(\"\\nDisplay Split Dataset Summary...\")\n",
    "print(\"Orignal set has {} samples'\".format(features.shape[0]))\n",
    "print('Training set has {} samples'.format(X_train.shape[0]))\n",
    "print('Testing set has {} samples'.format(X_test.shape[0]))"
   ]
  },
  {
   "cell_type": "markdown",
   "metadata": {
    "ExecuteTime": {
     "end_time": "2018-06-02T11:18:37.542759Z",
     "start_time": "2018-06-02T11:18:37.540250Z"
    }
   },
   "source": [
    "# Benchmark/Naive Model - Logistic Classifier (Exp -1)"
   ]
  },
  {
   "cell_type": "code",
   "execution_count": 74,
   "metadata": {
    "ExecuteTime": {
     "end_time": "2018-06-14T09:54:37.897514Z",
     "start_time": "2018-06-14T09:54:29.285618Z"
    }
   },
   "outputs": [
    {
     "name": "stdout",
     "output_type": "stream",
     "text": [
      "Precision score: 0.77\n",
      "Recall score: 0.63\n",
      "Average precision-recall score: 0.59\n"
     ]
    }
   ],
   "source": [
    "# Create a simple classifier\n",
    "clf = LogisticRegression(random_state=10)\n",
    "\n",
    "# Training\n",
    "clf.fit(X_train, y_train) \n",
    "\n",
    "# Get Predictions/Scores\n",
    "# y_pred = clf.decision_function(X_test)\n",
    "y_pred = clf.predict(X_test)\n",
    "\n",
    "# Calculate Peformance\n",
    "precision = precision_score(y_test, y_pred)\n",
    "recall = recall_score(y_test, y_pred)\n",
    "\n",
    "# # Get Predictions/Scores\n",
    "y_pred = clf.decision_function(X_test)\n",
    "average_precision = average_precision_score(y_test, y_pred)\n",
    "\n",
    "print('Precision score: {0:0.2f}'.format(\n",
    "      precision))\n",
    "print('Recall score: {0:0.2f}'.format(\n",
    "      recall))\n",
    "print('Average precision-recall score: {0:0.2f}'.format(\n",
    "      average_precision))"
   ]
  },
  {
   "cell_type": "code",
   "execution_count": 75,
   "metadata": {
    "ExecuteTime": {
     "end_time": "2018-06-14T09:54:38.710676Z",
     "start_time": "2018-06-14T09:54:37.899520Z"
    }
   },
   "outputs": [
    {
     "data": {
      "text/plain": [
       "Text(0.5,1,'2-class Precision-Recall curve: AP=0.59')"
      ]
     },
     "execution_count": 75,
     "metadata": {},
     "output_type": "execute_result"
    },
    {
     "data": {
      "image/png": "[encoded data removed]",
      "text/plain": [
       "<Figure size 432x288 with 1 Axes>"
      ]
     },
     "metadata": {},
     "output_type": "display_data"
    }
   ],
   "source": [
    "from sklearn.metrics import precision_recall_curve\n",
    "\n",
    "precision, recall, _ = precision_recall_curve(y_test, y_pred)\n",
    "\n",
    "plt.step(recall, precision, color='b', alpha=0.2,\n",
    "         where='post')\n",
    "plt.fill_between(recall, precision, step='post', alpha=0.2,\n",
    "                 color='b')\n",
    "\n",
    "plt.xlabel('Recall')\n",
    "plt.ylabel('Precision')\n",
    "plt.ylim([0.0, 1.05])\n",
    "plt.xlim([0.0, 1.0])\n",
    "plt.title('2-class Precision-Recall curve: AP={0:0.2f}'.format(\n",
    "          average_precision))"
   ]
  }
 ],
 "metadata": {
  "kernelspec": {
   "display_name": "Python 3",
   "language": "python",
   "name": "python3"
  },
  "language_info": {
   "codemirror_mode": {
    "name": "ipython",
    "version": 3
   },
   "file_extension": ".py",
   "mimetype": "text/x-python",
   "name": "python",
   "nbconvert_exporter": "python",
   "pygments_lexer": "ipython3",
   "version": "3.6.5"
  }
 },
 "nbformat": 4,
 "nbformat_minor": 2
}
