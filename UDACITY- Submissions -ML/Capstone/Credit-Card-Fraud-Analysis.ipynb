{
 "cells": [
  {
   "cell_type": "markdown",
   "metadata": {},
   "source": [
    "# Import Libraries"
   ]
  },
  {
   "cell_type": "code",
   "execution_count": 47,
   "metadata": {
    "ExecuteTime": {
     "end_time": "2018-06-27T05:00:42.772370Z",
     "start_time": "2018-06-27T05:00:42.766324Z"
    }
   },
   "outputs": [],
   "source": [
    "'''Import libraries'''\n",
    "import pandas as pd\n",
    "from time import time\n",
    "import matplotlib.pyplot as plt\n",
    "import seaborn as sns\n",
    "from sklearn.cross_validation import train_test_split\n",
    "from sklearn.linear_model import LogisticRegression, RidgeClassifier\n",
    "from sklearn.tree import DecisionTreeClassifier\n",
    "from sklearn.ensemble import AdaBoostClassifier\n",
    "import lightgbm as lgb\n",
    "from sklearn.metrics import precision_score, recall_score, confusion_matrix, classification_report,confusion_matrix\n",
    "from sklearn.metrics import average_precision_score, roc_curve, precision_recall_curve, fbeta_score, f1_score\n",
    "from imblearn.over_sampling import SMOTE\n",
    "from collections import Counter\n",
    "import itertools\n",
    "import numpy as np\n",
    "import matplotlib.pyplot as plt\n",
    "from sklearn import svm, datasets\n",
    "from sklearn.model_selection import train_test_split\n",
    "from sklearn.metrics import confusion_matrix\n"
   ]
  },
  {
   "cell_type": "markdown",
   "metadata": {},
   "source": [
    "# Importing Data"
   ]
  },
  {
   "cell_type": "code",
   "execution_count": 48,
   "metadata": {
    "ExecuteTime": {
     "end_time": "2018-06-27T05:00:54.322031Z",
     "start_time": "2018-06-27T05:00:46.292683Z"
    }
   },
   "outputs": [
    {
     "name": "stdout",
     "output_type": "stream",
     "text": [
      "Credit Card dataset has 284807 samples with 31 features each.\n"
     ]
    }
   ],
   "source": [
    "data = pd.read_csv(\"creditcard.csv\")\n",
    "data.head()\n",
    "try:\n",
    "    data = pd.read_csv(\"creditcard.csv\")\n",
    "    print((\"Credit Card dataset has {} samples with {} features each.\").format(*data.shape))\n",
    "except:\n",
    "    print( \"Dataset could not be loaded. Is the dataset missing?\")"
   ]
  },
  {
   "cell_type": "markdown",
   "metadata": {},
   "source": [
    "***View Data***"
   ]
  },
  {
   "cell_type": "code",
   "execution_count": 49,
   "metadata": {
    "ExecuteTime": {
     "end_time": "2018-06-27T05:00:54.356122Z",
     "start_time": "2018-06-27T05:00:54.325040Z"
    }
   },
   "outputs": [
    {
     "data": {
      "text/html": [
       "<div>\n",
       "<style scoped>\n",
       "    .dataframe tbody tr th:only-of-type {\n",
       "        vertical-align: middle;\n",
       "    }\n",
       "\n",
       "    .dataframe tbody tr th {\n",
       "        vertical-align: top;\n",
       "    }\n",
       "\n",
       "    .dataframe thead th {\n",
       "        text-align: right;\n",
       "    }\n",
       "</style>\n",
       "<table border=\"1\" class=\"dataframe\">\n",
       "  <thead>\n",
       "    <tr style=\"text-align: right;\">\n",
       "      <th></th>\n",
       "      <th>Time</th>\n",
       "      <th>V1</th>\n",
       "      <th>V2</th>\n",
       "      <th>V3</th>\n",
       "      <th>V4</th>\n",
       "      <th>V5</th>\n",
       "      <th>V6</th>\n",
       "      <th>V7</th>\n",
       "      <th>V8</th>\n",
       "      <th>V9</th>\n",
       "      <th>...</th>\n",
       "      <th>V21</th>\n",
       "      <th>V22</th>\n",
       "      <th>V23</th>\n",
       "      <th>V24</th>\n",
       "      <th>V25</th>\n",
       "      <th>V26</th>\n",
       "      <th>V27</th>\n",
       "      <th>V28</th>\n",
       "      <th>Amount</th>\n",
       "      <th>Class</th>\n",
       "    </tr>\n",
       "  </thead>\n",
       "  <tbody>\n",
       "    <tr>\n",
       "      <th>0</th>\n",
       "      <td>0.0</td>\n",
       "      <td>-1.359807</td>\n",
       "      <td>-0.072781</td>\n",
       "      <td>2.536347</td>\n",
       "      <td>1.378155</td>\n",
       "      <td>-0.338321</td>\n",
       "      <td>0.462388</td>\n",
       "      <td>0.239599</td>\n",
       "      <td>0.098698</td>\n",
       "      <td>0.363787</td>\n",
       "      <td>...</td>\n",
       "      <td>-0.018307</td>\n",
       "      <td>0.277838</td>\n",
       "      <td>-0.110474</td>\n",
       "      <td>0.066928</td>\n",
       "      <td>0.128539</td>\n",
       "      <td>-0.189115</td>\n",
       "      <td>0.133558</td>\n",
       "      <td>-0.021053</td>\n",
       "      <td>149.62</td>\n",
       "      <td>0</td>\n",
       "    </tr>\n",
       "    <tr>\n",
       "      <th>1</th>\n",
       "      <td>0.0</td>\n",
       "      <td>1.191857</td>\n",
       "      <td>0.266151</td>\n",
       "      <td>0.166480</td>\n",
       "      <td>0.448154</td>\n",
       "      <td>0.060018</td>\n",
       "      <td>-0.082361</td>\n",
       "      <td>-0.078803</td>\n",
       "      <td>0.085102</td>\n",
       "      <td>-0.255425</td>\n",
       "      <td>...</td>\n",
       "      <td>-0.225775</td>\n",
       "      <td>-0.638672</td>\n",
       "      <td>0.101288</td>\n",
       "      <td>-0.339846</td>\n",
       "      <td>0.167170</td>\n",
       "      <td>0.125895</td>\n",
       "      <td>-0.008983</td>\n",
       "      <td>0.014724</td>\n",
       "      <td>2.69</td>\n",
       "      <td>0</td>\n",
       "    </tr>\n",
       "    <tr>\n",
       "      <th>2</th>\n",
       "      <td>1.0</td>\n",
       "      <td>-1.358354</td>\n",
       "      <td>-1.340163</td>\n",
       "      <td>1.773209</td>\n",
       "      <td>0.379780</td>\n",
       "      <td>-0.503198</td>\n",
       "      <td>1.800499</td>\n",
       "      <td>0.791461</td>\n",
       "      <td>0.247676</td>\n",
       "      <td>-1.514654</td>\n",
       "      <td>...</td>\n",
       "      <td>0.247998</td>\n",
       "      <td>0.771679</td>\n",
       "      <td>0.909412</td>\n",
       "      <td>-0.689281</td>\n",
       "      <td>-0.327642</td>\n",
       "      <td>-0.139097</td>\n",
       "      <td>-0.055353</td>\n",
       "      <td>-0.059752</td>\n",
       "      <td>378.66</td>\n",
       "      <td>0</td>\n",
       "    </tr>\n",
       "    <tr>\n",
       "      <th>3</th>\n",
       "      <td>1.0</td>\n",
       "      <td>-0.966272</td>\n",
       "      <td>-0.185226</td>\n",
       "      <td>1.792993</td>\n",
       "      <td>-0.863291</td>\n",
       "      <td>-0.010309</td>\n",
       "      <td>1.247203</td>\n",
       "      <td>0.237609</td>\n",
       "      <td>0.377436</td>\n",
       "      <td>-1.387024</td>\n",
       "      <td>...</td>\n",
       "      <td>-0.108300</td>\n",
       "      <td>0.005274</td>\n",
       "      <td>-0.190321</td>\n",
       "      <td>-1.175575</td>\n",
       "      <td>0.647376</td>\n",
       "      <td>-0.221929</td>\n",
       "      <td>0.062723</td>\n",
       "      <td>0.061458</td>\n",
       "      <td>123.50</td>\n",
       "      <td>0</td>\n",
       "    </tr>\n",
       "    <tr>\n",
       "      <th>4</th>\n",
       "      <td>2.0</td>\n",
       "      <td>-1.158233</td>\n",
       "      <td>0.877737</td>\n",
       "      <td>1.548718</td>\n",
       "      <td>0.403034</td>\n",
       "      <td>-0.407193</td>\n",
       "      <td>0.095921</td>\n",
       "      <td>0.592941</td>\n",
       "      <td>-0.270533</td>\n",
       "      <td>0.817739</td>\n",
       "      <td>...</td>\n",
       "      <td>-0.009431</td>\n",
       "      <td>0.798278</td>\n",
       "      <td>-0.137458</td>\n",
       "      <td>0.141267</td>\n",
       "      <td>-0.206010</td>\n",
       "      <td>0.502292</td>\n",
       "      <td>0.219422</td>\n",
       "      <td>0.215153</td>\n",
       "      <td>69.99</td>\n",
       "      <td>0</td>\n",
       "    </tr>\n",
       "  </tbody>\n",
       "</table>\n",
       "<p>5 rows × 31 columns</p>\n",
       "</div>"
      ],
      "text/plain": [
       "   Time        V1        V2        V3        V4        V5        V6        V7  \\\n",
       "0   0.0 -1.359807 -0.072781  2.536347  1.378155 -0.338321  0.462388  0.239599   \n",
       "1   0.0  1.191857  0.266151  0.166480  0.448154  0.060018 -0.082361 -0.078803   \n",
       "2   1.0 -1.358354 -1.340163  1.773209  0.379780 -0.503198  1.800499  0.791461   \n",
       "3   1.0 -0.966272 -0.185226  1.792993 -0.863291 -0.010309  1.247203  0.237609   \n",
       "4   2.0 -1.158233  0.877737  1.548718  0.403034 -0.407193  0.095921  0.592941   \n",
       "\n",
       "         V8        V9  ...         V21       V22       V23       V24  \\\n",
       "0  0.098698  0.363787  ...   -0.018307  0.277838 -0.110474  0.066928   \n",
       "1  0.085102 -0.255425  ...   -0.225775 -0.638672  0.101288 -0.339846   \n",
       "2  0.247676 -1.514654  ...    0.247998  0.771679  0.909412 -0.689281   \n",
       "3  0.377436 -1.387024  ...   -0.108300  0.005274 -0.190321 -1.175575   \n",
       "4 -0.270533  0.817739  ...   -0.009431  0.798278 -0.137458  0.141267   \n",
       "\n",
       "        V25       V26       V27       V28  Amount  Class  \n",
       "0  0.128539 -0.189115  0.133558 -0.021053  149.62      0  \n",
       "1  0.167170  0.125895 -0.008983  0.014724    2.69      0  \n",
       "2 -0.327642 -0.139097 -0.055353 -0.059752  378.66      0  \n",
       "3  0.647376 -0.221929  0.062723  0.061458  123.50      0  \n",
       "4 -0.206010  0.502292  0.219422  0.215153   69.99      0  \n",
       "\n",
       "[5 rows x 31 columns]"
      ]
     },
     "execution_count": 49,
     "metadata": {},
     "output_type": "execute_result"
    }
   ],
   "source": [
    "data.head()"
   ]
  },
  {
   "cell_type": "markdown",
   "metadata": {},
   "source": [
    "# Data Exploration"
   ]
  },
  {
   "cell_type": "markdown",
   "metadata": {
    "ExecuteTime": {
     "end_time": "2018-06-17T18:00:17.605810Z",
     "start_time": "2018-06-17T18:00:17.601800Z"
    }
   },
   "source": [
    "***View Binary Class Distribution***"
   ]
  },
  {
   "cell_type": "code",
   "execution_count": 50,
   "metadata": {
    "ExecuteTime": {
     "end_time": "2018-06-27T05:00:54.522566Z",
     "start_time": "2018-06-27T05:00:54.358128Z"
    }
   },
   "outputs": [
    {
     "name": "stdout",
     "output_type": "stream",
     "text": [
      "Total records count  284807\n",
      "Fraud records count  492\n",
      "Non Fraud records count  284315\n"
     ]
    },
    {
     "data": {
      "image/png": "[encoded data removed]",
      "text/plain": [
       "<Figure size 864x432 with 1 Axes>"
      ]
     },
     "metadata": {},
     "output_type": "display_data"
    }
   ],
   "source": [
    "total_count = data.Class.count()\n",
    "frauds_count = data.Class[data.Class == 1].count()\n",
    "non_fraud_counts = data.Class[data.Class == 0].count()\n",
    "\n",
    "print(\"Total records count  {}\".format(total_count))\n",
    "print(\"Fraud records count  {}\".format(frauds_count))\n",
    "print(\"Non Fraud records count  {}\".format(non_fraud_counts))\n",
    "\n",
    "#Graph\n",
    "my_palette = {0: 'deepskyblue', 1: 'deeppink'}\n",
    "\n",
    "plt.figure(figsize = (12, 6))\n",
    "sns.countplot(x = 'Class', data = data, palette = my_palette)\n",
    "plt.title('Class Distribution')\n",
    "plt.show()"
   ]
  },
  {
   "cell_type": "markdown",
   "metadata": {},
   "source": [
    "*** Clearly the dataset is highly unbalanced. Out of nearly 300k transaction there are under 500 fradualent transactions***"
   ]
  },
  {
   "cell_type": "markdown",
   "metadata": {},
   "source": [
    "### Review how transaction amount differs for the 2 classes"
   ]
  },
  {
   "cell_type": "code",
   "execution_count": 51,
   "metadata": {
    "ExecuteTime": {
     "end_time": "2018-06-27T05:00:54.535604Z",
     "start_time": "2018-06-27T05:00:54.524574Z"
    }
   },
   "outputs": [
    {
     "data": {
      "text/plain": [
       "count     492.000000\n",
       "mean      122.211321\n",
       "std       256.683288\n",
       "min         0.000000\n",
       "25%         1.000000\n",
       "50%         9.250000\n",
       "75%       105.890000\n",
       "max      2125.870000\n",
       "Name: Amount, dtype: float64"
      ]
     },
     "execution_count": 51,
     "metadata": {},
     "output_type": "execute_result"
    }
   ],
   "source": [
    "data.Amount[data.Class==1].describe()"
   ]
  },
  {
   "cell_type": "code",
   "execution_count": 52,
   "metadata": {
    "ExecuteTime": {
     "end_time": "2018-06-27T05:00:54.602779Z",
     "start_time": "2018-06-27T05:00:54.538608Z"
    }
   },
   "outputs": [
    {
     "data": {
      "text/plain": [
       "count    284315.000000\n",
       "mean         88.291022\n",
       "std         250.105092\n",
       "min           0.000000\n",
       "25%           5.650000\n",
       "50%          22.000000\n",
       "75%          77.050000\n",
       "max       25691.160000\n",
       "Name: Amount, dtype: float64"
      ]
     },
     "execution_count": 52,
     "metadata": {},
     "output_type": "execute_result"
    }
   ],
   "source": [
    "data.Amount[data.Class==0].describe()"
   ]
  },
  {
   "cell_type": "code",
   "execution_count": 53,
   "metadata": {
    "ExecuteTime": {
     "end_time": "2018-06-27T05:00:55.489135Z",
     "start_time": "2018-06-27T05:00:54.605788Z"
    }
   },
   "outputs": [
    {
     "data": {
      "image/png": "[encoded data removed]",
      "text/plain": [
       "<Figure size 1440x720 with 2 Axes>"
      ]
     },
     "metadata": {},
     "output_type": "display_data"
    }
   ],
   "source": [
    "f, (ax1, ax2) = plt.subplots(2, 1, sharex=True, figsize=(20,10))\n",
    "\n",
    "bins = 50\n",
    "\n",
    "ax1.hist(data.Amount[data.Class == 1], bins = bins)\n",
    "ax1.set_title('Fraud')\n",
    "\n",
    "ax2.hist(data.Amount[data.Class == 0], bins = bins)\n",
    "ax2.set_title('Normal')\n",
    "\n",
    "plt.xlabel('Amount')\n",
    "plt.ylabel('Number of Transactions')\n",
    "plt.yscale('symlog')\n",
    "plt.show()"
   ]
  },
  {
   "cell_type": "markdown",
   "metadata": {},
   "source": [
    "Most of the Fraduent transactions are low value as compared to non fraulent transactionns.The maximum amount for a fraudulent ransaction 2,125."
   ]
  },
  {
   "cell_type": "markdown",
   "metadata": {},
   "source": [
    "### Explore the time vs amount"
   ]
  },
  {
   "cell_type": "code",
   "execution_count": 54,
   "metadata": {
    "ExecuteTime": {
     "end_time": "2018-06-27T05:00:59.732845Z",
     "start_time": "2018-06-27T05:00:59.725798Z"
    }
   },
   "outputs": [],
   "source": [
    "# Time between subsequent transactions in hrs\n",
    "data['time_hrs']= data.Time/3600"
   ]
  },
  {
   "cell_type": "code",
   "execution_count": 55,
   "metadata": {
    "ExecuteTime": {
     "end_time": "2018-06-27T05:01:02.821040Z",
     "start_time": "2018-06-27T05:01:00.047565Z"
    }
   },
   "outputs": [
    {
     "data": {
      "image/png": "[encoded data removed]",
      "text/plain": [
       "<Figure size 864x432 with 2 Axes>"
      ]
     },
     "metadata": {},
     "output_type": "display_data"
    }
   ],
   "source": [
    "f, (ax1, ax2) = plt.subplots(2, 1, sharex=True, figsize=(12,6))\n",
    "\n",
    "\n",
    "ax1.scatter(data.time_hrs[data.Class == 1], data.Amount[data.Class == 1])\n",
    "ax1.set_title('Fraud')\n",
    "\n",
    "ax2.scatter(data.time_hrs[data.Class == 0], data.Amount[data.Class == 0])\n",
    "ax2.set_title('Normal')\n",
    "\n",
    "plt.xlabel('Time (in hours)')\n",
    "plt.ylabel('Amount')\n",
    "plt.show()"
   ]
  },
  {
   "cell_type": "markdown",
   "metadata": {
    "ExecuteTime": {
     "end_time": "2018-06-17T18:13:08.010912Z",
     "start_time": "2018-06-17T18:13:08.006905Z"
    }
   },
   "source": [
    "There is no significant reading from above plot"
   ]
  },
  {
   "cell_type": "code",
   "execution_count": 56,
   "metadata": {
    "ExecuteTime": {
     "end_time": "2018-06-27T05:01:02.828059Z",
     "start_time": "2018-06-27T05:01:02.824048Z"
    }
   },
   "outputs": [],
   "source": [
    "### Plot no. of trasactions over time"
   ]
  },
  {
   "cell_type": "code",
   "execution_count": 57,
   "metadata": {
    "ExecuteTime": {
     "end_time": "2018-06-27T05:01:03.693089Z",
     "start_time": "2018-06-27T05:01:03.055393Z"
    }
   },
   "outputs": [
    {
     "data": {
      "image/png": "[encoded data removed]",
      "text/plain": [
       "<Figure size 1440x720 with 2 Axes>"
      ]
     },
     "metadata": {},
     "output_type": "display_data"
    }
   ],
   "source": [
    "f, (ax1, ax2) = plt.subplots(2, 1, sharex=True, figsize=(20,10))\n",
    "\n",
    "bins = 50\n",
    "\n",
    "ax1.hist(data.time_hrs[data.Class == 1], bins = bins)\n",
    "ax1.set_title('Fraud')\n",
    "\n",
    "ax2.hist(data.time_hrs[data.Class == 0], bins = bins)\n",
    "ax2.set_title('Normal')\n",
    "\n",
    "plt.xlabel('Amount')\n",
    "plt.ylabel('Number of Transactions')\n",
    "plt.yscale('log')\n",
    "plt.show()"
   ]
  },
  {
   "cell_type": "markdown",
   "metadata": {
    "ExecuteTime": {
     "end_time": "2018-06-17T18:17:25.868424Z",
     "start_time": "2018-06-17T18:17:25.863409Z"
    }
   },
   "source": [
    "***Normal transactions tend to go down between near 01 to 10th hr and  24th to 34th hour indicating cyclic trend but the same is not being displayed by the fraudulent transactions. This may help in detetcion of fraudulent transactions during these hours.***"
   ]
  },
  {
   "cell_type": "markdown",
   "metadata": {
    "ExecuteTime": {
     "end_time": "2018-06-17T18:20:54.991120Z",
     "start_time": "2018-06-17T18:20:54.989115Z"
    }
   },
   "source": [
    "# Data Prepration"
   ]
  },
  {
   "cell_type": "markdown",
   "metadata": {},
   "source": [
    "***Separate features and labels***"
   ]
  },
  {
   "cell_type": "code",
   "execution_count": 58,
   "metadata": {
    "ExecuteTime": {
     "end_time": "2018-06-27T05:01:08.789844Z",
     "start_time": "2018-06-27T05:01:08.622398Z"
    }
   },
   "outputs": [],
   "source": [
    "features  = data.drop([\"Class\"],axis=1)\n",
    "label = data.Class"
   ]
  },
  {
   "cell_type": "markdown",
   "metadata": {},
   "source": [
    "*** Split into train and test data***"
   ]
  },
  {
   "cell_type": "code",
   "execution_count": 59,
   "metadata": {
    "ExecuteTime": {
     "end_time": "2018-06-27T05:01:10.677655Z",
     "start_time": "2018-06-27T05:01:10.509241Z"
    }
   },
   "outputs": [
    {
     "name": "stdout",
     "output_type": "stream",
     "text": [
      "\n",
      "Display Split Dataset Summary...\n",
      "Orignal set has 284807 samples'\n",
      "Training set has 199364 samples\n",
      "Testing set has 85443 samples\n"
     ]
    }
   ],
   "source": [
    "def get_train_test_data(X,y):\n",
    "    X_train,X_test,y_train,y_test = train_test_split(X,y,test_size=.3)\n",
    "    return(X_train,X_test,y_train,y_test)\n",
    "\n",
    "X_train, X_test , y_train, y_test =get_train_test_data(features,label)\n",
    "\n",
    "print(\"\\nDisplay Split Dataset Summary...\")\n",
    "print(\"Orignal set has {} samples'\".format(features.shape[0]))\n",
    "print('Training set has {} samples'.format(X_train.shape[0]))\n",
    "print('Testing set has {} samples'.format(X_test.shape[0]))"
   ]
  },
  {
   "cell_type": "markdown",
   "metadata": {},
   "source": [
    "# Mulitple Models Evaluation -with Precision Recall Metrics"
   ]
  },
  {
   "cell_type": "markdown",
   "metadata": {},
   "source": [
    "##### Specific function defined for setting up params and data for Ligh Gradient Boosting model"
   ]
  },
  {
   "cell_type": "code",
   "execution_count": 63,
   "metadata": {
    "ExecuteTime": {
     "end_time": "2018-06-27T05:15:44.282364Z",
     "start_time": "2018-06-27T05:15:44.278357Z"
    }
   },
   "outputs": [],
   "source": [
    "def LGB(d_train):\n",
    "    params = {}\n",
    "    params['learning_rate'] = 0.0003\n",
    "    params['boosting_type'] = 'gbdt'\n",
    "    params['objective'] = 'binary'\n",
    "    params['metric'] = 'binary_logloss'\n",
    "    params['sub_feature'] = 0.5\n",
    "    params['num_leaves'] = 100\n",
    "    params['min_data'] = 10\n",
    "    params['max_depth'] = 1000\n",
    "    clf = lgb.train(params, d_train, 100)\n",
    "    return clf"
   ]
  },
  {
   "cell_type": "markdown",
   "metadata": {
    "ExecuteTime": {
     "end_time": "2018-06-27T01:23:32.798132Z",
     "start_time": "2018-06-27T01:23:32.795124Z"
    }
   },
   "source": [
    "## Functions to train and test mutliple clssifiers"
   ]
  },
  {
   "cell_type": "code",
   "execution_count": 15,
   "metadata": {
    "ExecuteTime": {
     "end_time": "2018-06-27T04:29:47.167069Z",
     "start_time": "2018-06-27T04:29:47.158045Z"
    }
   },
   "outputs": [],
   "source": [
    "# Train & evaluate the models\n",
    "def train_predict(clf, X_train, y_train, X_test, y_test): \n",
    "    '''\n",
    "    inputs:\n",
    "       - learner: the learning algorithm to be trained and predicted on\n",
    "       - sample_size: the size of samples (number) to be drawn from training set\n",
    "       - X_train: features training set\n",
    "       - y_train: income training set\n",
    "       - X_test: features testing set\n",
    "       - y_test: income testing set\n",
    "    '''\n",
    "    results = {}\n",
    "    \n",
    "    clf_name = clf.__class__.__name__ \n",
    "    if clf == 'Booster': #LGB\n",
    "        clf_name = 'Booster'\n",
    "        d_train = lgb.Dataset(X_train, label=y_train)\n",
    "        start = time() # Get start time\n",
    "        clf = LGB(d_train)\n",
    "        end = time() # Get end time\n",
    "    else:    \n",
    "        start = time() # Get start time\n",
    "        clf = clf.fit(X_train,y_train)\n",
    "        end = time() # Get end time\n",
    "    \n",
    "    # Calculate the training time\n",
    "    results['train_time'] = end -start\n",
    "     \n",
    "    start = time() # Get start time\n",
    "    # Get the predictions on the test set(X_test),\n",
    "    y_pred = clf.predict(X_test)\n",
    "    end = time() # Get end time\n",
    "    results['test_time'] = end -start\n",
    "    # Calculate Peformance\n",
    "    results['precision'] = precision_score(y_test, y_pred.round())\n",
    "    results['recall'] = recall_score(y_test, y_pred.round())   \n",
    "    if not clf_name =='Booster':\n",
    "        y_pred = clf.decision_function(X_test)\n",
    "    results['AUPRC']  = average_precision_score(y_test,y_pred)\n",
    "\n",
    "    print(\"{} trained on   samples.\".format(clf.__class__.__name__))\n",
    "        \n",
    "    # Return the results\n",
    "    return results\n",
    "\n",
    "\n",
    "def test(class_weight= {0: 1., 1: 1.}):\n",
    "    # Initialize the three models\n",
    "    clf_A = AdaBoostClassifier(random_state =10)\n",
    "    clf_B = RidgeClassifier(random_state=10,class_weight=class_weight)\n",
    "    clf_C = LogisticRegression(random_state =10,class_weight=class_weight)\n",
    "    clf_D = 'Booster'\n",
    "    if class_weight== {0: 1., 1: 1.}:\n",
    "        clf_list = [clf_A, clf_B, clf_C, clf_D]\n",
    "    else:\n",
    "        clf_list = [clf_B, clf_C]\n",
    "    \n",
    "    # Collect results on the learners\n",
    "    results = {}\n",
    "    for clf in clf_list:\n",
    "        if clf == clf_D:\n",
    "            clf_name = clf\n",
    "        else:\n",
    "            clf_name = clf.__class__.__name__           \n",
    "        results[clf_name] = \\\n",
    "        train_predict(clf, X_train, y_train, X_test, y_test)\n",
    "        results[clf_name]['class_weight']= class_weight\n",
    "    return results"
   ]
  },
  {
   "cell_type": "markdown",
   "metadata": {},
   "source": [
    "***Evaluate multiple models without applying class weights***"
   ]
  },
  {
   "cell_type": "code",
   "execution_count": 24,
   "metadata": {
    "ExecuteTime": {
     "end_time": "2018-06-27T01:25:52.334703Z",
     "start_time": "2018-06-27T01:24:39.447884Z"
    }
   },
   "outputs": [
    {
     "name": "stdout",
     "output_type": "stream",
     "text": [
      "AdaBoostClassifier trained on   samples.\n",
      "RidgeClassifier trained on   samples.\n",
      "LogisticRegression trained on   samples.\n",
      "Booster trained on   samples.\n"
     ]
    },
    {
     "data": {
      "text/plain": [
       "{'AdaBoostClassifier': {'train_time': 61.87954330444336,\n",
       "  'test_time': 0.7560102939605713,\n",
       "  'precision': 0.8248175182481752,\n",
       "  'recall': 0.7635135135135135,\n",
       "  'AUPRC': 0.8242386771977751,\n",
       "  'class_weight': {0: 1.0, 1: 1.0}},\n",
       " 'RidgeClassifier': {'train_time': 0.377002477645874,\n",
       "  'test_time': 0.007020473480224609,\n",
       "  'precision': 0.8133333333333334,\n",
       "  'recall': 0.41216216216216217,\n",
       "  'AUPRC': 0.7658420287399721,\n",
       "  'class_weight': {0: 1.0, 1: 1.0}},\n",
       " 'LogisticRegression': {'train_time': 4.086866140365601,\n",
       "  'test_time': 0.008020401000976562,\n",
       "  'precision': 0.7164179104477612,\n",
       "  'recall': 0.6486486486486487,\n",
       "  'AUPRC': 0.6019459958005489,\n",
       "  'class_weight': {0: 1.0, 1: 1.0}},\n",
       " 'Booster': {'train_time': 4.181119918823242,\n",
       "  'test_time': 0.6126284599304199,\n",
       "  'precision': 0.9516129032258065,\n",
       "  'recall': 0.7972972972972973,\n",
       "  'AUPRC': 0.882010464364217,\n",
       "  'class_weight': {0: 1.0, 1: 1.0}}}"
      ]
     },
     "execution_count": 24,
     "metadata": {},
     "output_type": "execute_result"
    }
   ],
   "source": [
    "results = test()\n",
    "results"
   ]
  },
  {
   "cell_type": "markdown",
   "metadata": {},
   "source": [
    "***Evaluate and observe results after applying class weights (Appliacble to Logistic regression and ridge classifier)***"
   ]
  },
  {
   "cell_type": "code",
   "execution_count": 27,
   "metadata": {
    "ExecuteTime": {
     "end_time": "2018-06-27T01:36:54.086741Z",
     "start_time": "2018-06-27T01:36:46.546693Z"
    }
   },
   "outputs": [
    {
     "name": "stdout",
     "output_type": "stream",
     "text": [
      "RidgeClassifier trained on   samples.\n",
      "LogisticRegression trained on   samples.\n"
     ]
    },
    {
     "data": {
      "text/plain": [
       "{'RidgeClassifier': {'train_time': 0.36095690727233887,\n",
       "  'test_time': 0.00701904296875,\n",
       "  'precision': 0.8627450980392157,\n",
       "  'recall': 0.5945945945945946,\n",
       "  'AUPRC': 0.7706538611062957,\n",
       "  'class_weight': {0: 1.0, 1: 9.9}},\n",
       " 'LogisticRegression': {'train_time': 7.0487425327301025,\n",
       "  'test_time': 0.00902557373046875,\n",
       "  'precision': 0.7530120481927711,\n",
       "  'recall': 0.8445945945945946,\n",
       "  'AUPRC': 0.7814126401265683,\n",
       "  'class_weight': {0: 1.0, 1: 9.9}}}"
      ]
     },
     "execution_count": 27,
     "metadata": {},
     "output_type": "execute_result"
    }
   ],
   "source": [
    "class_weight = {0: 1., 1: 9.9}\n",
    "results = test(class_weight)\n",
    "results"
   ]
  },
  {
   "cell_type": "markdown",
   "metadata": {},
   "source": [
    "### Conclusions from initial runs"
   ]
  },
  {
   "cell_type": "markdown",
   "metadata": {},
   "source": [
    "***1. Light Gradient Boosting with AUPRC score of .8820 performs much better than any other models and is pretty efficient.***\n",
    "***2. Adaboost and Ridge classifiers perform much better than the benchmark model(Logistic regression) out of the box.*** \n",
    "***3. Applying weightage to the fraudalent class dramatically improves the performance of logistic regression model with minor improvment in ridge classifier 3.Adaboost is computationally expensive/slow***"
   ]
  },
  {
   "cell_type": "markdown",
   "metadata": {},
   "source": [
    "# Working on the challenge of unbalanced datset"
   ]
  },
  {
   "cell_type": "markdown",
   "metadata": {},
   "source": [
    "We have already tried penalizing the dominating class by using class weights. We can now further try and improve results by using resampling the training data using oversampling oe undersampling techniques.\n",
    "I'm focussing on resampling by oversampling the minority class by using a technique called SMOTE(Synthetic Minority Over-Sampling Technique)"
   ]
  },
  {
   "cell_type": "code",
   "execution_count": 79,
   "metadata": {
    "ExecuteTime": {
     "end_time": "2018-06-27T05:27:48.095540Z",
     "start_time": "2018-06-27T05:27:46.173426Z"
    }
   },
   "outputs": [
    {
     "name": "stdout",
     "output_type": "stream",
     "text": [
      "Resampled dataset shape Counter({0: 284315, 1: 284315})\n"
     ]
    }
   ],
   "source": [
    "sm = SMOTE(random_state=42)\n",
    "X_res, y_res = sm.fit_sample(features, label)\n",
    "print('Resampled dataset shape {}'.format(Counter(y_res)))"
   ]
  },
  {
   "cell_type": "code",
   "execution_count": 80,
   "metadata": {
    "ExecuteTime": {
     "end_time": "2018-06-27T05:27:48.364250Z",
     "start_time": "2018-06-27T05:27:48.098545Z"
    }
   },
   "outputs": [],
   "source": [
    "#Split resampled data into training and testing sets\n",
    "X_train, X_test , y_train, y_test =get_train_test_data(X_res,y_res)"
   ]
  },
  {
   "cell_type": "markdown",
   "metadata": {},
   "source": [
    "## Testing on Oversampled dataset - Compare Adaboost,Ridge and Logistic regression with each other "
   ]
  },
  {
   "cell_type": "code",
   "execution_count": 65,
   "metadata": {
    "ExecuteTime": {
     "end_time": "2018-06-27T03:13:09.224939Z",
     "start_time": "2018-06-27T03:09:52.504306Z"
    }
   },
   "outputs": [
    {
     "name": "stdout",
     "output_type": "stream",
     "text": [
      "AdaBoostClassifier trained on   samples.\n",
      "RidgeClassifier trained on   samples.\n",
      "LogisticRegression trained on   samples.\n",
      "Booster trained on   samples.\n"
     ]
    },
    {
     "data": {
      "text/plain": [
       "{'AdaBoostClassifier': {'train_time': 163.98775172233582,\n",
       "  'test_time': 2.3333115577697754,\n",
       "  'precision': 0.9876554865815376,\n",
       "  'recall': 0.9781320492291868,\n",
       "  'AUPRC': 0.9985995010510701,\n",
       "  'class_weight': {0: 1.0, 1: 1.0}},\n",
       " 'RidgeClassifier': {'train_time': 1.078866720199585,\n",
       "  'test_time': 0.031083106994628906,\n",
       "  'precision': 0.9874624664173207,\n",
       "  'recall': 0.8763543285919658,\n",
       "  'AUPRC': 0.9885462991220754,\n",
       "  'class_weight': {0: 1.0, 1: 1.0}},\n",
       " 'LogisticRegression': {'train_time': 15.254562377929688,\n",
       "  'test_time': 0.013032674789428711,\n",
       "  'precision': 0.9831762796443885,\n",
       "  'recall': 0.9487371287649459,\n",
       "  'AUPRC': 0.9931788735908442,\n",
       "  'class_weight': {0: 1.0, 1: 1.0}},\n",
       " 'Booster': {'train_time': 9.450867891311646,\n",
       "  'test_time': 1.4739196300506592,\n",
       "  'precision': 0.9977622808159979,\n",
       "  'recall': 0.984957748454283,\n",
       "  'AUPRC': 0.9992147216179208,\n",
       "  'class_weight': {0: 1.0, 1: 1.0}}}"
      ]
     },
     "execution_count": 65,
     "metadata": {},
     "output_type": "execute_result"
    }
   ],
   "source": [
    "# Run multiple models on oversampled data\n",
    "results = test()\n",
    "results"
   ]
  },
  {
   "cell_type": "markdown",
   "metadata": {},
   "source": [
    "***Evaluate and observe results after applying class weights (Appliacble to Logistic regression and ridge classifier)***"
   ]
  },
  {
   "cell_type": "code",
   "execution_count": 16,
   "metadata": {
    "ExecuteTime": {
     "end_time": "2018-06-27T04:30:59.782244Z",
     "start_time": "2018-06-27T04:30:51.648617Z"
    }
   },
   "outputs": [
    {
     "name": "stdout",
     "output_type": "stream",
     "text": [
      "RidgeClassifier trained on   samples.\n",
      "LogisticRegression trained on   samples.\n"
     ]
    },
    {
     "data": {
      "text/plain": [
       "{'RidgeClassifier': {'train_time': 0.4582173824310303,\n",
       "  'test_time': 0.009024381637573242,\n",
       "  'precision': 0.8588235294117647,\n",
       "  'recall': 0.5488721804511278,\n",
       "  'AUPRC': 0.7454266547054786,\n",
       "  'class_weight': {0: 1.0, 1: 5}},\n",
       " 'LogisticRegression': {'train_time': 7.5230042934417725,\n",
       "  'test_time': 0.007052183151245117,\n",
       "  'precision': 0.7786259541984732,\n",
       "  'recall': 0.7669172932330827,\n",
       "  'AUPRC': 0.7441962790430269,\n",
       "  'class_weight': {0: 1.0, 1: 5}}}"
      ]
     },
     "execution_count": 16,
     "metadata": {},
     "output_type": "execute_result"
    }
   ],
   "source": [
    "# Applying class weights on Logistic regression and ridge classifier\n",
    "class_weight = {0: 1., 1: 5}\n",
    "results = test(class_weight)\n",
    "results"
   ]
  },
  {
   "cell_type": "markdown",
   "metadata": {},
   "source": [
    "## Light Gradient Boosting(LGB) - BEST MODEL"
   ]
  },
  {
   "cell_type": "markdown",
   "metadata": {},
   "source": [
    "### AUPRC Curve"
   ]
  },
  {
   "cell_type": "code",
   "execution_count": 68,
   "metadata": {
    "ExecuteTime": {
     "end_time": "2018-06-27T03:30:15.706181Z",
     "start_time": "2018-06-27T03:30:15.347226Z"
    },
    "scrolled": true
   },
   "outputs": [
    {
     "data": {
      "text/plain": [
       "Text(0.5,1,'2-class Precision-Recall curve: AP=0.9992')"
      ]
     },
     "execution_count": 68,
     "metadata": {},
     "output_type": "execute_result"
    },
    {
     "data": {
      "image/png": "[encoded data removed]",
      "text/plain": [
       "<Figure size 432x288 with 1 Axes>"
      ]
     },
     "metadata": {},
     "output_type": "display_data"
    }
   ],
   "source": [
    "#Plotting AUPRC for the BEST Model\n",
    "precision = results['Booster']['precision']\n",
    "recall = results['Booster']['recall']\n",
    "AUPRC = results['Booster']['AUPRC']\n",
    "precision, recall, _ = precision_recall_curve(y_test, y_pred)\n",
    "plt.step(recall, precision, color='b', alpha=0.2,\n",
    "         where='post')\n",
    "plt.fill_between(recall, precision, step='post', alpha=0.2,\n",
    "                 color='b')\n",
    "plt.xlabel('Recall')\n",
    "plt.ylabel('Precision')\n",
    "plt.ylim([0.0, 1.05])\n",
    "plt.xlim([0.0, 1.0])\n",
    "plt.title('2-class Precision-Recall curve: AP={0:0.4f}'.format(\n",
    "          AUPRC))"
   ]
  },
  {
   "cell_type": "markdown",
   "metadata": {},
   "source": [
    "### Plotting confusion Matrix"
   ]
  },
  {
   "cell_type": "code",
   "execution_count": 82,
   "metadata": {
    "ExecuteTime": {
     "end_time": "2018-06-27T05:29:19.814170Z",
     "start_time": "2018-06-27T05:29:11.052874Z"
    }
   },
   "outputs": [
    {
     "data": {
      "text/plain": [
       "0.9992811394919722"
      ]
     },
     "execution_count": 82,
     "metadata": {},
     "output_type": "execute_result"
    }
   ],
   "source": [
    "# Train and Test LGB Model only to get the confudion matrix\n",
    "d_train = lgb.Dataset(X_train, label=y_train)\n",
    "clf = LGB(d_train)\n",
    "y_pred = clf.predict(X_test)\n",
    "AUPRC_lgb = average_precision_score(y_test,y_pred)\n",
    "AUPRC_lgb"
   ]
  },
  {
   "cell_type": "code",
   "execution_count": 84,
   "metadata": {
    "ExecuteTime": {
     "end_time": "2018-06-27T05:29:45.651920Z",
     "start_time": "2018-06-27T05:29:45.061088Z"
    }
   },
   "outputs": [
    {
     "name": "stdout",
     "output_type": "stream",
     "text": [
      "Confusion matrix, without normalization\n",
      "[[85160   170]\n",
      " [ 1303 83956]]\n"
     ]
    },
    {
     "data": {
      "image/png": "[encoded data removed]",
      "text/plain": [
       "<Figure size 432x288 with 2 Axes>"
      ]
     },
     "metadata": {},
     "output_type": "display_data"
    }
   ],
   "source": [
    "def plot_confusion_matrix(cm, classes,\n",
    "                          normalize=False,\n",
    "                          title='Confusion matrix',\n",
    "                          cmap=plt.cm.Blues):\n",
    "    \"\"\"\n",
    "    This function prints and plots the confusion matrix.\n",
    "    Normalization can be applied by setting `normalize=True`.\n",
    "    \"\"\"\n",
    "    if normalize:\n",
    "        cm = cm.astype('float') / cm.sum(axis=1)[:, np.newaxis]\n",
    "        print(\"Normalized confusion matrix\")\n",
    "    else:\n",
    "        print('Confusion matrix, without normalization')\n",
    "\n",
    "    print(cm)\n",
    "\n",
    "    plt.imshow(cm, interpolation='nearest', cmap=cmap)\n",
    "    plt.title(title)\n",
    "    plt.colorbar()\n",
    "    tick_marks = np.arange(len(classes))\n",
    "    plt.xticks(tick_marks, classes, rotation=45)\n",
    "    plt.yticks(tick_marks, classes)\n",
    "\n",
    "    fmt = '.2f' if normalize else 'd'\n",
    "    thresh = cm.max() / 2.\n",
    "    for i, j in itertools.product(range(cm.shape[0]), range(cm.shape[1])):\n",
    "        plt.text(j, i, format(cm[i, j], fmt),\n",
    "                 horizontalalignment=\"center\",\n",
    "                 color=\"white\" if cm[i, j] > thresh else \"black\")\n",
    "\n",
    "    plt.tight_layout()\n",
    "    plt.ylabel('True label')\n",
    "    plt.xlabel('Predicted label')\n",
    "\n",
    "# Compute confusion matrix\n",
    "cnf_matrix = confusion_matrix(y_test, y_pred.round())\n",
    "np.set_printoptions(precision=2)\n",
    "\n",
    "# Plot non-normalized confusion matrix\n",
    "plt.figure()\n",
    "plot_confusion_matrix(cnf_matrix, classes=['0', '1'],\n",
    "                      title='Confusion matrix')\n",
    "\n",
    "plt.show()"
   ]
  },
  {
   "cell_type": "markdown",
   "metadata": {
    "ExecuteTime": {
     "end_time": "2018-06-23T18:02:29.181255Z",
     "start_time": "2018-06-23T18:02:29.170226Z"
    }
   },
   "source": [
    "***Overall Conclusion - *** \n",
    "1. LGB or Light Gradient Boosting model performs the best over this unbalanced dataset followed by Adaboost,Ridge and Logistic regression.\n",
    "2. Applying class weights help improving performance of logistc regression, still the performance lags LGB and Adaboost classifiers\n",
    "3. Oversampling the data using SMOTE really helps in improving the results significantly - Again LGB performs the best followed by Adaboost.\n",
    "4. After all experiments it can be concluded that ***LGB model*** should be selected and applied ***on oversampled(SMOTE) data*** which gives an ***AUPRC of 0.9992***"
   ]
  }
 ],
 "metadata": {
  "kernelspec": {
   "display_name": "Python 3",
   "language": "python",
   "name": "python3"
  },
  "language_info": {
   "codemirror_mode": {
    "name": "ipython",
    "version": 3
   },
   "file_extension": ".py",
   "mimetype": "text/x-python",
   "name": "python",
   "nbconvert_exporter": "python",
   "pygments_lexer": "ipython3",
   "version": "3.6.5"
  }
 },
 "nbformat": 4,
 "nbformat_minor": 2
}
