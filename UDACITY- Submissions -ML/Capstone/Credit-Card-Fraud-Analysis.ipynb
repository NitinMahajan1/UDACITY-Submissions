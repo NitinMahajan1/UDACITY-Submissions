{
 "cells": [
  {
   "cell_type": "markdown",
   "metadata": {},
   "source": [
    "# Import Libraries"
   ]
  },
  {
   "cell_type": "code",
   "execution_count": 1,
   "metadata": {
    "ExecuteTime": {
     "end_time": "2018-06-28T01:39:09.643146Z",
     "start_time": "2018-06-28T01:39:08.362572Z"
    }
   },
   "outputs": [
    {
     "name": "stderr",
     "output_type": "stream",
     "text": [
      "C:\\Users\\Nitin\\Anaconda3\\envs\\tensorflow\\lib\\site-packages\\sklearn\\cross_validation.py:41: DeprecationWarning: This module was deprecated in version 0.18 in favor of the model_selection module into which all the refactored classes and functions are moved. Also note that the interface of the new CV iterators are different from that of this module. This module will be removed in 0.20.\n",
      "  \"This module will be removed in 0.20.\", DeprecationWarning)\n"
     ]
    }
   ],
   "source": [
    "'''Import libraries'''\n",
    "import pandas as pd\n",
    "from time import time\n",
    "import matplotlib.pyplot as plt\n",
    "import seaborn as sns\n",
    "from sklearn.cross_validation import train_test_split\n",
    "from sklearn.linear_model import LogisticRegression, RidgeClassifier\n",
    "from sklearn.tree import DecisionTreeClassifier\n",
    "from sklearn.ensemble import AdaBoostClassifier\n",
    "import lightgbm as lgb\n",
    "from sklearn.metrics import precision_score, recall_score, confusion_matrix, classification_report,confusion_matrix\n",
    "from sklearn.metrics import average_precision_score, roc_curve, precision_recall_curve, fbeta_score, f1_score\n",
    "from imblearn.over_sampling import SMOTE\n",
    "from collections import Counter\n",
    "import itertools\n",
    "import numpy as np\n",
    "import matplotlib.pyplot as plt\n",
    "from sklearn import svm, datasets\n",
    "from sklearn.model_selection import train_test_split\n",
    "from sklearn.metrics import confusion_matrix\n",
    "from sklearn.preprocessing import MinMaxScaler\n"
   ]
  },
  {
   "cell_type": "markdown",
   "metadata": {},
   "source": [
    "# Importing Data"
   ]
  },
  {
   "cell_type": "code",
   "execution_count": 2,
   "metadata": {
    "ExecuteTime": {
     "end_time": "2018-06-28T01:39:18.288809Z",
     "start_time": "2018-06-28T01:39:09.645141Z"
    }
   },
   "outputs": [
    {
     "name": "stdout",
     "output_type": "stream",
     "text": [
      "Credit Card dataset has 284807 samples with 31 features each.\n"
     ]
    }
   ],
   "source": [
    "data = pd.read_csv(\"creditcard.csv\")\n",
    "data.head()\n",
    "try:\n",
    "    data = pd.read_csv(\"creditcard.csv\")\n",
    "    print((\"Credit Card dataset has {} samples with {} features each.\").format(*data.shape))\n",
    "except:\n",
    "    print( \"Dataset could not be loaded. Is the dataset missing?\")"
   ]
  },
  {
   "cell_type": "markdown",
   "metadata": {},
   "source": [
    "***View Data***"
   ]
  },
  {
   "cell_type": "code",
   "execution_count": 3,
   "metadata": {
    "ExecuteTime": {
     "end_time": "2018-06-28T01:39:18.324728Z",
     "start_time": "2018-06-28T01:39:18.291803Z"
    }
   },
   "outputs": [
    {
     "data": {
      "text/html": [
       "<div>\n",
       "<style scoped>\n",
       "    .dataframe tbody tr th:only-of-type {\n",
       "        vertical-align: middle;\n",
       "    }\n",
       "\n",
       "    .dataframe tbody tr th {\n",
       "        vertical-align: top;\n",
       "    }\n",
       "\n",
       "    .dataframe thead th {\n",
       "        text-align: right;\n",
       "    }\n",
       "</style>\n",
       "<table border=\"1\" class=\"dataframe\">\n",
       "  <thead>\n",
       "    <tr style=\"text-align: right;\">\n",
       "      <th></th>\n",
       "      <th>Time</th>\n",
       "      <th>V1</th>\n",
       "      <th>V2</th>\n",
       "      <th>V3</th>\n",
       "      <th>V4</th>\n",
       "      <th>V5</th>\n",
       "      <th>V6</th>\n",
       "      <th>V7</th>\n",
       "      <th>V8</th>\n",
       "      <th>V9</th>\n",
       "      <th>...</th>\n",
       "      <th>V21</th>\n",
       "      <th>V22</th>\n",
       "      <th>V23</th>\n",
       "      <th>V24</th>\n",
       "      <th>V25</th>\n",
       "      <th>V26</th>\n",
       "      <th>V27</th>\n",
       "      <th>V28</th>\n",
       "      <th>Amount</th>\n",
       "      <th>Class</th>\n",
       "    </tr>\n",
       "  </thead>\n",
       "  <tbody>\n",
       "    <tr>\n",
       "      <th>0</th>\n",
       "      <td>0.0</td>\n",
       "      <td>-1.359807</td>\n",
       "      <td>-0.072781</td>\n",
       "      <td>2.536347</td>\n",
       "      <td>1.378155</td>\n",
       "      <td>-0.338321</td>\n",
       "      <td>0.462388</td>\n",
       "      <td>0.239599</td>\n",
       "      <td>0.098698</td>\n",
       "      <td>0.363787</td>\n",
       "      <td>...</td>\n",
       "      <td>-0.018307</td>\n",
       "      <td>0.277838</td>\n",
       "      <td>-0.110474</td>\n",
       "      <td>0.066928</td>\n",
       "      <td>0.128539</td>\n",
       "      <td>-0.189115</td>\n",
       "      <td>0.133558</td>\n",
       "      <td>-0.021053</td>\n",
       "      <td>149.62</td>\n",
       "      <td>0</td>\n",
       "    </tr>\n",
       "    <tr>\n",
       "      <th>1</th>\n",
       "      <td>0.0</td>\n",
       "      <td>1.191857</td>\n",
       "      <td>0.266151</td>\n",
       "      <td>0.166480</td>\n",
       "      <td>0.448154</td>\n",
       "      <td>0.060018</td>\n",
       "      <td>-0.082361</td>\n",
       "      <td>-0.078803</td>\n",
       "      <td>0.085102</td>\n",
       "      <td>-0.255425</td>\n",
       "      <td>...</td>\n",
       "      <td>-0.225775</td>\n",
       "      <td>-0.638672</td>\n",
       "      <td>0.101288</td>\n",
       "      <td>-0.339846</td>\n",
       "      <td>0.167170</td>\n",
       "      <td>0.125895</td>\n",
       "      <td>-0.008983</td>\n",
       "      <td>0.014724</td>\n",
       "      <td>2.69</td>\n",
       "      <td>0</td>\n",
       "    </tr>\n",
       "    <tr>\n",
       "      <th>2</th>\n",
       "      <td>1.0</td>\n",
       "      <td>-1.358354</td>\n",
       "      <td>-1.340163</td>\n",
       "      <td>1.773209</td>\n",
       "      <td>0.379780</td>\n",
       "      <td>-0.503198</td>\n",
       "      <td>1.800499</td>\n",
       "      <td>0.791461</td>\n",
       "      <td>0.247676</td>\n",
       "      <td>-1.514654</td>\n",
       "      <td>...</td>\n",
       "      <td>0.247998</td>\n",
       "      <td>0.771679</td>\n",
       "      <td>0.909412</td>\n",
       "      <td>-0.689281</td>\n",
       "      <td>-0.327642</td>\n",
       "      <td>-0.139097</td>\n",
       "      <td>-0.055353</td>\n",
       "      <td>-0.059752</td>\n",
       "      <td>378.66</td>\n",
       "      <td>0</td>\n",
       "    </tr>\n",
       "    <tr>\n",
       "      <th>3</th>\n",
       "      <td>1.0</td>\n",
       "      <td>-0.966272</td>\n",
       "      <td>-0.185226</td>\n",
       "      <td>1.792993</td>\n",
       "      <td>-0.863291</td>\n",
       "      <td>-0.010309</td>\n",
       "      <td>1.247203</td>\n",
       "      <td>0.237609</td>\n",
       "      <td>0.377436</td>\n",
       "      <td>-1.387024</td>\n",
       "      <td>...</td>\n",
       "      <td>-0.108300</td>\n",
       "      <td>0.005274</td>\n",
       "      <td>-0.190321</td>\n",
       "      <td>-1.175575</td>\n",
       "      <td>0.647376</td>\n",
       "      <td>-0.221929</td>\n",
       "      <td>0.062723</td>\n",
       "      <td>0.061458</td>\n",
       "      <td>123.50</td>\n",
       "      <td>0</td>\n",
       "    </tr>\n",
       "    <tr>\n",
       "      <th>4</th>\n",
       "      <td>2.0</td>\n",
       "      <td>-1.158233</td>\n",
       "      <td>0.877737</td>\n",
       "      <td>1.548718</td>\n",
       "      <td>0.403034</td>\n",
       "      <td>-0.407193</td>\n",
       "      <td>0.095921</td>\n",
       "      <td>0.592941</td>\n",
       "      <td>-0.270533</td>\n",
       "      <td>0.817739</td>\n",
       "      <td>...</td>\n",
       "      <td>-0.009431</td>\n",
       "      <td>0.798278</td>\n",
       "      <td>-0.137458</td>\n",
       "      <td>0.141267</td>\n",
       "      <td>-0.206010</td>\n",
       "      <td>0.502292</td>\n",
       "      <td>0.219422</td>\n",
       "      <td>0.215153</td>\n",
       "      <td>69.99</td>\n",
       "      <td>0</td>\n",
       "    </tr>\n",
       "  </tbody>\n",
       "</table>\n",
       "<p>5 rows × 31 columns</p>\n",
       "</div>"
      ],
      "text/plain": [
       "   Time        V1        V2        V3        V4        V5        V6        V7  \\\n",
       "0   0.0 -1.359807 -0.072781  2.536347  1.378155 -0.338321  0.462388  0.239599   \n",
       "1   0.0  1.191857  0.266151  0.166480  0.448154  0.060018 -0.082361 -0.078803   \n",
       "2   1.0 -1.358354 -1.340163  1.773209  0.379780 -0.503198  1.800499  0.791461   \n",
       "3   1.0 -0.966272 -0.185226  1.792993 -0.863291 -0.010309  1.247203  0.237609   \n",
       "4   2.0 -1.158233  0.877737  1.548718  0.403034 -0.407193  0.095921  0.592941   \n",
       "\n",
       "         V8        V9  ...         V21       V22       V23       V24  \\\n",
       "0  0.098698  0.363787  ...   -0.018307  0.277838 -0.110474  0.066928   \n",
       "1  0.085102 -0.255425  ...   -0.225775 -0.638672  0.101288 -0.339846   \n",
       "2  0.247676 -1.514654  ...    0.247998  0.771679  0.909412 -0.689281   \n",
       "3  0.377436 -1.387024  ...   -0.108300  0.005274 -0.190321 -1.175575   \n",
       "4 -0.270533  0.817739  ...   -0.009431  0.798278 -0.137458  0.141267   \n",
       "\n",
       "        V25       V26       V27       V28  Amount  Class  \n",
       "0  0.128539 -0.189115  0.133558 -0.021053  149.62      0  \n",
       "1  0.167170  0.125895 -0.008983  0.014724    2.69      0  \n",
       "2 -0.327642 -0.139097 -0.055353 -0.059752  378.66      0  \n",
       "3  0.647376 -0.221929  0.062723  0.061458  123.50      0  \n",
       "4 -0.206010  0.502292  0.219422  0.215153   69.99      0  \n",
       "\n",
       "[5 rows x 31 columns]"
      ]
     },
     "execution_count": 3,
     "metadata": {},
     "output_type": "execute_result"
    }
   ],
   "source": [
    "data.head()"
   ]
  },
  {
   "cell_type": "markdown",
   "metadata": {},
   "source": [
    "# Data Exploration"
   ]
  },
  {
   "cell_type": "markdown",
   "metadata": {
    "ExecuteTime": {
     "end_time": "2018-06-17T18:00:17.605810Z",
     "start_time": "2018-06-17T18:00:17.601800Z"
    }
   },
   "source": [
    "***View Binary Class Distribution***"
   ]
  },
  {
   "cell_type": "code",
   "execution_count": 4,
   "metadata": {
    "ExecuteTime": {
     "end_time": "2018-06-28T01:39:18.591001Z",
     "start_time": "2018-06-28T01:39:18.326707Z"
    }
   },
   "outputs": [
    {
     "name": "stdout",
     "output_type": "stream",
     "text": [
      "Total records count  284807\n",
      "Fraud records count  492\n",
      "Non Fraud records count  284315\n"
     ]
    },
    {
     "data": {
      "image/png": "[encoded data removed]",
      "text/plain": [
       "<Figure size 864x432 with 1 Axes>"
      ]
     },
     "metadata": {},
     "output_type": "display_data"
    }
   ],
   "source": [
    "total_count = data.Class.count()\n",
    "frauds_count = data.Class[data.Class == 1].count()\n",
    "non_fraud_counts = data.Class[data.Class == 0].count()\n",
    "\n",
    "print(\"Total records count  {}\".format(total_count))\n",
    "print(\"Fraud records count  {}\".format(frauds_count))\n",
    "print(\"Non Fraud records count  {}\".format(non_fraud_counts))\n",
    "\n",
    "#Graph\n",
    "my_palette = {0: 'deepskyblue', 1: 'deeppink'}\n",
    "\n",
    "plt.figure(figsize = (12, 6))\n",
    "sns.countplot(x = 'Class', data = data, palette = my_palette)\n",
    "plt.title('Class Distribution')\n",
    "plt.show()"
   ]
  },
  {
   "cell_type": "markdown",
   "metadata": {},
   "source": [
    "*** Clearly the dataset is highly unbalanced. Out of nearly 300k transaction there are under 500 fradualent transactions***"
   ]
  },
  {
   "cell_type": "markdown",
   "metadata": {},
   "source": [
    "### Review how transaction amount differs for the 2 classes"
   ]
  },
  {
   "cell_type": "code",
   "execution_count": 5,
   "metadata": {
    "ExecuteTime": {
     "end_time": "2018-06-28T01:39:18.630898Z",
     "start_time": "2018-06-28T01:39:18.592995Z"
    }
   },
   "outputs": [
    {
     "data": {
      "text/plain": [
       "count     492.000000\n",
       "mean      122.211321\n",
       "std       256.683288\n",
       "min         0.000000\n",
       "25%         1.000000\n",
       "50%         9.250000\n",
       "75%       105.890000\n",
       "max      2125.870000\n",
       "Name: Amount, dtype: float64"
      ]
     },
     "execution_count": 5,
     "metadata": {},
     "output_type": "execute_result"
    }
   ],
   "source": [
    "data.Amount[data.Class==1].describe()"
   ]
  },
  {
   "cell_type": "code",
   "execution_count": 6,
   "metadata": {
    "ExecuteTime": {
     "end_time": "2018-06-28T01:39:18.754570Z",
     "start_time": "2018-06-28T01:39:18.640881Z"
    }
   },
   "outputs": [
    {
     "data": {
      "text/plain": [
       "count    284315.000000\n",
       "mean         88.291022\n",
       "std         250.105092\n",
       "min           0.000000\n",
       "25%           5.650000\n",
       "50%          22.000000\n",
       "75%          77.050000\n",
       "max       25691.160000\n",
       "Name: Amount, dtype: float64"
      ]
     },
     "execution_count": 6,
     "metadata": {},
     "output_type": "execute_result"
    }
   ],
   "source": [
    "data.Amount[data.Class==0].describe()"
   ]
  },
  {
   "cell_type": "code",
   "execution_count": 7,
   "metadata": {
    "ExecuteTime": {
     "end_time": "2018-06-28T01:39:20.204808Z",
     "start_time": "2018-06-28T01:39:18.758555Z"
    }
   },
   "outputs": [
    {
     "data": {
      "image/png": "[encoded data removed]",
      "text/plain": [
       "<Figure size 1440x720 with 2 Axes>"
      ]
     },
     "metadata": {},
     "output_type": "display_data"
    }
   ],
   "source": [
    "f, (ax1, ax2) = plt.subplots(2, 1, sharex=True, figsize=(20,10))\n",
    "\n",
    "bins = 50\n",
    "\n",
    "ax1.hist(data.Amount[data.Class == 1], bins = bins)\n",
    "ax1.set_title('Fraud')\n",
    "\n",
    "ax2.hist(data.Amount[data.Class == 0], bins = bins)\n",
    "ax2.set_title('Normal')\n",
    "\n",
    "plt.xlabel('Amount')\n",
    "plt.ylabel('Number of Transactions')\n",
    "plt.yscale('symlog')\n",
    "plt.show()"
   ]
  },
  {
   "cell_type": "markdown",
   "metadata": {},
   "source": [
    "Most of the Fraduent transactions are low value as compared to non fraulent transactionns.The maximum amount for a fraudulent ransaction 2,125."
   ]
  },
  {
   "cell_type": "markdown",
   "metadata": {},
   "source": [
    "### Explore the time vs amount"
   ]
  },
  {
   "cell_type": "code",
   "execution_count": 8,
   "metadata": {
    "ExecuteTime": {
     "end_time": "2018-06-28T01:39:20.217772Z",
     "start_time": "2018-06-28T01:39:20.206802Z"
    }
   },
   "outputs": [],
   "source": [
    "# Time between subsequent transactions in hrs\n",
    "data['time_hrs']= data.Time/3600"
   ]
  },
  {
   "cell_type": "code",
   "execution_count": 9,
   "metadata": {
    "ExecuteTime": {
     "end_time": "2018-06-28T01:39:23.601143Z",
     "start_time": "2018-06-28T01:39:20.220767Z"
    }
   },
   "outputs": [
    {
     "data": {
      "image/png": "[encoded data removed]",
      "text/plain": [
       "<Figure size 864x432 with 2 Axes>"
      ]
     },
     "metadata": {},
     "output_type": "display_data"
    }
   ],
   "source": [
    "f, (ax1, ax2) = plt.subplots(2, 1, sharex=True, figsize=(12,6))\n",
    "\n",
    "\n",
    "ax1.scatter(data.time_hrs[data.Class == 1], data.Amount[data.Class == 1])\n",
    "ax1.set_title('Fraud')\n",
    "\n",
    "ax2.scatter(data.time_hrs[data.Class == 0], data.Amount[data.Class == 0])\n",
    "ax2.set_title('Normal')\n",
    "\n",
    "plt.xlabel('Time (in hours)')\n",
    "plt.ylabel('Amount')\n",
    "plt.show()"
   ]
  },
  {
   "cell_type": "markdown",
   "metadata": {
    "ExecuteTime": {
     "end_time": "2018-06-17T18:13:08.010912Z",
     "start_time": "2018-06-17T18:13:08.006905Z"
    }
   },
   "source": [
    "There is no significant reading from above plot"
   ]
  },
  {
   "cell_type": "code",
   "execution_count": 10,
   "metadata": {
    "ExecuteTime": {
     "end_time": "2018-06-28T01:39:23.613118Z",
     "start_time": "2018-06-28T01:39:23.604136Z"
    }
   },
   "outputs": [],
   "source": [
    "### Plot no. of trasactions over time"
   ]
  },
  {
   "cell_type": "code",
   "execution_count": 11,
   "metadata": {
    "ExecuteTime": {
     "end_time": "2018-06-28T01:39:24.361109Z",
     "start_time": "2018-06-28T01:39:23.616102Z"
    }
   },
   "outputs": [
    {
     "data": {
      "image/png": "[encoded data removed]",
      "text/plain": [
       "<Figure size 1440x720 with 2 Axes>"
      ]
     },
     "metadata": {},
     "output_type": "display_data"
    }
   ],
   "source": [
    "f, (ax1, ax2) = plt.subplots(2, 1, sharex=True, figsize=(20,10))\n",
    "\n",
    "bins = 50\n",
    "\n",
    "ax1.hist(data.time_hrs[data.Class == 1], bins = bins)\n",
    "ax1.set_title('Fraud')\n",
    "\n",
    "ax2.hist(data.time_hrs[data.Class == 0], bins = bins)\n",
    "ax2.set_title('Normal')\n",
    "\n",
    "plt.xlabel('Amount')\n",
    "plt.ylabel('Number of Transactions')\n",
    "plt.yscale('log')\n",
    "plt.show()"
   ]
  },
  {
   "cell_type": "markdown",
   "metadata": {
    "ExecuteTime": {
     "end_time": "2018-06-17T18:17:25.868424Z",
     "start_time": "2018-06-17T18:17:25.863409Z"
    }
   },
   "source": [
    "***Normal transactions tend to go down between near 01 to 10th hr and  24th to 34th hour indicating cyclic trend but the same is not being displayed by the fraudulent transactions. This may help in detetcion of fraudulent transactions during these hours.***"
   ]
  },
  {
   "cell_type": "markdown",
   "metadata": {
    "ExecuteTime": {
     "end_time": "2018-06-17T18:20:54.991120Z",
     "start_time": "2018-06-17T18:20:54.989115Z"
    }
   },
   "source": [
    "# Data Prepration"
   ]
  },
  {
   "cell_type": "code",
   "execution_count": 13,
   "metadata": {
    "ExecuteTime": {
     "end_time": "2018-06-28T01:39:40.783451Z",
     "start_time": "2018-06-28T01:39:40.546086Z"
    }
   },
   "outputs": [
    {
     "data": {
      "text/html": [
       "<div>\n",
       "<style scoped>\n",
       "    .dataframe tbody tr th:only-of-type {\n",
       "        vertical-align: middle;\n",
       "    }\n",
       "\n",
       "    .dataframe tbody tr th {\n",
       "        vertical-align: top;\n",
       "    }\n",
       "\n",
       "    .dataframe thead th {\n",
       "        text-align: right;\n",
       "    }\n",
       "</style>\n",
       "<table border=\"1\" class=\"dataframe\">\n",
       "  <thead>\n",
       "    <tr style=\"text-align: right;\">\n",
       "      <th></th>\n",
       "      <th>V1</th>\n",
       "      <th>V2</th>\n",
       "      <th>V3</th>\n",
       "      <th>V4</th>\n",
       "      <th>V5</th>\n",
       "      <th>V6</th>\n",
       "      <th>V7</th>\n",
       "      <th>V8</th>\n",
       "      <th>V9</th>\n",
       "      <th>V10</th>\n",
       "      <th>...</th>\n",
       "      <th>V22</th>\n",
       "      <th>V23</th>\n",
       "      <th>V24</th>\n",
       "      <th>V25</th>\n",
       "      <th>V26</th>\n",
       "      <th>V27</th>\n",
       "      <th>V28</th>\n",
       "      <th>Amount</th>\n",
       "      <th>Class</th>\n",
       "      <th>time_hrs</th>\n",
       "    </tr>\n",
       "  </thead>\n",
       "  <tbody>\n",
       "    <tr>\n",
       "      <th>0</th>\n",
       "      <td>-1.359807</td>\n",
       "      <td>-0.072781</td>\n",
       "      <td>2.536347</td>\n",
       "      <td>1.378155</td>\n",
       "      <td>-0.338321</td>\n",
       "      <td>0.462388</td>\n",
       "      <td>0.239599</td>\n",
       "      <td>0.098698</td>\n",
       "      <td>0.363787</td>\n",
       "      <td>0.090794</td>\n",
       "      <td>...</td>\n",
       "      <td>0.277838</td>\n",
       "      <td>-0.110474</td>\n",
       "      <td>0.066928</td>\n",
       "      <td>0.128539</td>\n",
       "      <td>-0.189115</td>\n",
       "      <td>0.133558</td>\n",
       "      <td>-0.021053</td>\n",
       "      <td>0.005824</td>\n",
       "      <td>0</td>\n",
       "      <td>0.000000</td>\n",
       "    </tr>\n",
       "    <tr>\n",
       "      <th>1</th>\n",
       "      <td>1.191857</td>\n",
       "      <td>0.266151</td>\n",
       "      <td>0.166480</td>\n",
       "      <td>0.448154</td>\n",
       "      <td>0.060018</td>\n",
       "      <td>-0.082361</td>\n",
       "      <td>-0.078803</td>\n",
       "      <td>0.085102</td>\n",
       "      <td>-0.255425</td>\n",
       "      <td>-0.166974</td>\n",
       "      <td>...</td>\n",
       "      <td>-0.638672</td>\n",
       "      <td>0.101288</td>\n",
       "      <td>-0.339846</td>\n",
       "      <td>0.167170</td>\n",
       "      <td>0.125895</td>\n",
       "      <td>-0.008983</td>\n",
       "      <td>0.014724</td>\n",
       "      <td>0.000105</td>\n",
       "      <td>0</td>\n",
       "      <td>0.000000</td>\n",
       "    </tr>\n",
       "    <tr>\n",
       "      <th>2</th>\n",
       "      <td>-1.358354</td>\n",
       "      <td>-1.340163</td>\n",
       "      <td>1.773209</td>\n",
       "      <td>0.379780</td>\n",
       "      <td>-0.503198</td>\n",
       "      <td>1.800499</td>\n",
       "      <td>0.791461</td>\n",
       "      <td>0.247676</td>\n",
       "      <td>-1.514654</td>\n",
       "      <td>0.207643</td>\n",
       "      <td>...</td>\n",
       "      <td>0.771679</td>\n",
       "      <td>0.909412</td>\n",
       "      <td>-0.689281</td>\n",
       "      <td>-0.327642</td>\n",
       "      <td>-0.139097</td>\n",
       "      <td>-0.055353</td>\n",
       "      <td>-0.059752</td>\n",
       "      <td>0.014739</td>\n",
       "      <td>0</td>\n",
       "      <td>0.000278</td>\n",
       "    </tr>\n",
       "    <tr>\n",
       "      <th>3</th>\n",
       "      <td>-0.966272</td>\n",
       "      <td>-0.185226</td>\n",
       "      <td>1.792993</td>\n",
       "      <td>-0.863291</td>\n",
       "      <td>-0.010309</td>\n",
       "      <td>1.247203</td>\n",
       "      <td>0.237609</td>\n",
       "      <td>0.377436</td>\n",
       "      <td>-1.387024</td>\n",
       "      <td>-0.054952</td>\n",
       "      <td>...</td>\n",
       "      <td>0.005274</td>\n",
       "      <td>-0.190321</td>\n",
       "      <td>-1.175575</td>\n",
       "      <td>0.647376</td>\n",
       "      <td>-0.221929</td>\n",
       "      <td>0.062723</td>\n",
       "      <td>0.061458</td>\n",
       "      <td>0.004807</td>\n",
       "      <td>0</td>\n",
       "      <td>0.000278</td>\n",
       "    </tr>\n",
       "    <tr>\n",
       "      <th>4</th>\n",
       "      <td>-1.158233</td>\n",
       "      <td>0.877737</td>\n",
       "      <td>1.548718</td>\n",
       "      <td>0.403034</td>\n",
       "      <td>-0.407193</td>\n",
       "      <td>0.095921</td>\n",
       "      <td>0.592941</td>\n",
       "      <td>-0.270533</td>\n",
       "      <td>0.817739</td>\n",
       "      <td>0.753074</td>\n",
       "      <td>...</td>\n",
       "      <td>0.798278</td>\n",
       "      <td>-0.137458</td>\n",
       "      <td>0.141267</td>\n",
       "      <td>-0.206010</td>\n",
       "      <td>0.502292</td>\n",
       "      <td>0.219422</td>\n",
       "      <td>0.215153</td>\n",
       "      <td>0.002724</td>\n",
       "      <td>0</td>\n",
       "      <td>0.000556</td>\n",
       "    </tr>\n",
       "  </tbody>\n",
       "</table>\n",
       "<p>5 rows × 31 columns</p>\n",
       "</div>"
      ],
      "text/plain": [
       "         V1        V2        V3        V4        V5        V6        V7  \\\n",
       "0 -1.359807 -0.072781  2.536347  1.378155 -0.338321  0.462388  0.239599   \n",
       "1  1.191857  0.266151  0.166480  0.448154  0.060018 -0.082361 -0.078803   \n",
       "2 -1.358354 -1.340163  1.773209  0.379780 -0.503198  1.800499  0.791461   \n",
       "3 -0.966272 -0.185226  1.792993 -0.863291 -0.010309  1.247203  0.237609   \n",
       "4 -1.158233  0.877737  1.548718  0.403034 -0.407193  0.095921  0.592941   \n",
       "\n",
       "         V8        V9       V10    ...          V22       V23       V24  \\\n",
       "0  0.098698  0.363787  0.090794    ...     0.277838 -0.110474  0.066928   \n",
       "1  0.085102 -0.255425 -0.166974    ...    -0.638672  0.101288 -0.339846   \n",
       "2  0.247676 -1.514654  0.207643    ...     0.771679  0.909412 -0.689281   \n",
       "3  0.377436 -1.387024 -0.054952    ...     0.005274 -0.190321 -1.175575   \n",
       "4 -0.270533  0.817739  0.753074    ...     0.798278 -0.137458  0.141267   \n",
       "\n",
       "        V25       V26       V27       V28    Amount  Class  time_hrs  \n",
       "0  0.128539 -0.189115  0.133558 -0.021053  0.005824      0  0.000000  \n",
       "1  0.167170  0.125895 -0.008983  0.014724  0.000105      0  0.000000  \n",
       "2 -0.327642 -0.139097 -0.055353 -0.059752  0.014739      0  0.000278  \n",
       "3  0.647376 -0.221929  0.062723  0.061458  0.004807      0  0.000278  \n",
       "4 -0.206010  0.502292  0.219422  0.215153  0.002724      0  0.000556  \n",
       "\n",
       "[5 rows x 31 columns]"
      ]
     },
     "execution_count": 13,
     "metadata": {},
     "output_type": "execute_result"
    }
   ],
   "source": [
    "# # Initialize a scaler, then apply it to the features\n",
    "scaler = MinMaxScaler() \n",
    "data['Amount'] = scaler.fit_transform(data['Amount'].values.reshape(-1, 1))\n",
    "data = data.drop(['Time'],axis=1)\n",
    "data.head()"
   ]
  },
  {
   "cell_type": "markdown",
   "metadata": {},
   "source": [
    "***Separate features and labels***"
   ]
  },
  {
   "cell_type": "code",
   "execution_count": 14,
   "metadata": {
    "ExecuteTime": {
     "end_time": "2018-06-28T01:39:40.832321Z",
     "start_time": "2018-06-28T01:39:40.785450Z"
    }
   },
   "outputs": [],
   "source": [
    "features  = data.drop([\"Class\"],axis=1)\n",
    "label = data.Class"
   ]
  },
  {
   "cell_type": "markdown",
   "metadata": {},
   "source": [
    "*** Split into train and test data***"
   ]
  },
  {
   "cell_type": "code",
   "execution_count": 15,
   "metadata": {
    "ExecuteTime": {
     "end_time": "2018-06-28T01:39:41.014833Z",
     "start_time": "2018-06-28T01:39:40.834315Z"
    }
   },
   "outputs": [
    {
     "name": "stdout",
     "output_type": "stream",
     "text": [
      "\n",
      "Display Split Dataset Summary...\n",
      "Orignal set has 284807 samples'\n",
      "Training set has 199364 samples\n",
      "Testing set has 85443 samples\n"
     ]
    }
   ],
   "source": [
    "def get_train_test_data(X,y):\n",
    "    X_train,X_test,y_train,y_test = train_test_split(X,y,test_size=.3)\n",
    "    return(X_train,X_test,y_train,y_test)\n",
    "\n",
    "X_train, X_test , y_train, y_test =get_train_test_data(features,label)\n",
    "\n",
    "print(\"\\nDisplay Split Dataset Summary...\")\n",
    "print(\"Orignal set has {} samples'\".format(features.shape[0]))\n",
    "print('Training set has {} samples'.format(X_train.shape[0]))\n",
    "print('Testing set has {} samples'.format(X_test.shape[0]))"
   ]
  },
  {
   "cell_type": "markdown",
   "metadata": {},
   "source": [
    "# Mulitple Models Evaluation -with Precision Recall Metrics"
   ]
  },
  {
   "cell_type": "markdown",
   "metadata": {},
   "source": [
    "##### Specific function defined for setting up params and data for Ligh Gradient Boosting model"
   ]
  },
  {
   "cell_type": "code",
   "execution_count": 16,
   "metadata": {
    "ExecuteTime": {
     "end_time": "2018-06-28T01:39:41.025806Z",
     "start_time": "2018-06-28T01:39:41.017825Z"
    }
   },
   "outputs": [],
   "source": [
    "def LGB(d_train):\n",
    "    params = {}\n",
    "    params['learning_rate'] = 0.07\n",
    "    params['boosting_type'] = 'gbdt'\n",
    "    params['objective'] = 'binary'\n",
    "    params['metric'] = 'binary_error'\n",
    "    params['sub_feature'] = 0.5\n",
    "    params['num_leaves'] = 2000\n",
    "    params['min_data'] = 50\n",
    "    params['max_depth'] = -1\n",
    "    params['max_bin'] = 512\n",
    "    params['subsample_for_bin'] = 200\n",
    "    params['nthread'] = 5\n",
    "    params['reg_alpha'] = 1.2\n",
    "    params['reg_lambda'] = 1.2\n",
    "    params['min_split_gain'] = 0.5\n",
    "    params['min_child_weight'] = 1\n",
    "    params['min_child_samples'] = 5\n",
    "    params['scale_pos_weight'] = 1\n",
    "    params['num_class'] = 1\n",
    "    clf = lgb.train(params, d_train, 280)\n",
    "    return clf"
   ]
  },
  {
   "cell_type": "markdown",
   "metadata": {
    "ExecuteTime": {
     "end_time": "2018-06-27T01:23:32.798132Z",
     "start_time": "2018-06-27T01:23:32.795124Z"
    }
   },
   "source": [
    "## Functions to train and test mutliple clssifiers"
   ]
  },
  {
   "cell_type": "code",
   "execution_count": 17,
   "metadata": {
    "ExecuteTime": {
     "end_time": "2018-06-28T01:39:41.041759Z",
     "start_time": "2018-06-28T01:39:41.028795Z"
    }
   },
   "outputs": [],
   "source": [
    "# Train & evaluate the models\n",
    "def train_predict(clf, X_train, y_train, X_test, y_test): \n",
    "    '''\n",
    "    inputs:\n",
    "       - learner: the learning algorithm to be trained and predicted on\n",
    "       - sample_size: the size of samples (number) to be drawn from training set\n",
    "       - X_train: features training set\n",
    "       - y_train: income training set\n",
    "       - X_test: features testing set\n",
    "       - y_test: income testing set\n",
    "    '''\n",
    "    results = {}\n",
    "    \n",
    "    clf_name = clf.__class__.__name__ \n",
    "    if clf == 'Booster': #LGB\n",
    "        clf_name = 'Booster'\n",
    "        d_train = lgb.Dataset(X_train, label=y_train)\n",
    "        start = time() # Get start time\n",
    "        clf = LGB(d_train)\n",
    "        end = time() # Get end time\n",
    "    else:    \n",
    "        start = time() # Get start time\n",
    "        clf = clf.fit(X_train,y_train)\n",
    "        end = time() # Get end time\n",
    "    \n",
    "    # Calculate the training time\n",
    "    results['train_time'] = end -start\n",
    "     \n",
    "    start = time() # Get start time\n",
    "    # Get the predictions on the test set(X_test),\n",
    "    y_pred = clf.predict(X_test)\n",
    "    end = time() # Get end time\n",
    "    results['test_time'] = end -start\n",
    "    # Calculate Peformance\n",
    "    results['precision'] = precision_score(y_test, y_pred.round())\n",
    "    results['recall'] = recall_score(y_test, y_pred.round())   \n",
    "    if not clf_name =='Booster':\n",
    "        y_pred = clf.decision_function(X_test)\n",
    "    results['AUPRC']  = average_precision_score(y_test,y_pred)\n",
    "\n",
    "    print(\"{} trained on   samples.\".format(clf.__class__.__name__))\n",
    "        \n",
    "    # Return the results\n",
    "    return results\n",
    "\n",
    "\n",
    "def test(X_train, X_test, y_train, y_test,class_weight= {0: 1., 1: 1.}):\n",
    "    # Initialize the three models\n",
    "    clf_A = AdaBoostClassifier(random_state =10)\n",
    "    clf_B = RidgeClassifier(random_state=10,class_weight=class_weight)\n",
    "    clf_C = LogisticRegression(random_state =10,class_weight=class_weight)\n",
    "    clf_D = 'Booster'\n",
    "    if class_weight== {0: 1., 1: 1.}:\n",
    "        clf_list = [clf_A, clf_B, clf_C, clf_D]\n",
    "    else:\n",
    "        clf_list = [clf_B, clf_C]\n",
    "    \n",
    "    # Collect results on the learners\n",
    "    results = {}\n",
    "    for clf in clf_list:\n",
    "        if clf == clf_D:\n",
    "            clf_name = clf\n",
    "        else:\n",
    "            clf_name = clf.__class__.__name__           \n",
    "        results[clf_name] = \\\n",
    "        train_predict(clf, X_train, y_train, X_test, y_test)\n",
    "        results[clf_name]['class_weight']= class_weight\n",
    "    return results"
   ]
  },
  {
   "cell_type": "markdown",
   "metadata": {},
   "source": [
    "***Evaluate multiple models without applying class weights***"
   ]
  },
  {
   "cell_type": "code",
   "execution_count": 18,
   "metadata": {
    "ExecuteTime": {
     "end_time": "2018-06-28T01:40:56.938641Z",
     "start_time": "2018-06-28T01:39:41.043754Z"
    }
   },
   "outputs": [
    {
     "name": "stdout",
     "output_type": "stream",
     "text": [
      "AdaBoostClassifier trained on   samples.\n",
      "RidgeClassifier trained on   samples.\n",
      "LogisticRegression trained on   samples.\n",
      "Booster trained on   samples.\n"
     ]
    },
    {
     "data": {
      "text/plain": [
       "{'AdaBoostClassifier': {'train_time': 62.891661643981934,\n",
       "  'test_time': 0.7280521392822266,\n",
       "  'precision': 0.7578125,\n",
       "  'recall': 0.6879432624113475,\n",
       "  'AUPRC': 0.730287639697863,\n",
       "  'class_weight': {0: 1.0, 1: 1.0}},\n",
       " 'RidgeClassifier': {'train_time': 0.3341054916381836,\n",
       "  'test_time': 0.00797891616821289,\n",
       "  'precision': 0.7777777777777778,\n",
       "  'recall': 0.3971631205673759,\n",
       "  'AUPRC': 0.7508495723778189,\n",
       "  'class_weight': {0: 1.0, 1: 1.0}},\n",
       " 'LogisticRegression': {'train_time': 4.76924467086792,\n",
       "  'test_time': 0.00698089599609375,\n",
       "  'precision': 0.8521739130434782,\n",
       "  'recall': 0.6950354609929078,\n",
       "  'AUPRC': 0.7706723231634991,\n",
       "  'class_weight': {0: 1.0, 1: 1.0}},\n",
       " 'Booster': {'train_time': 5.76358437538147,\n",
       "  'test_time': 0.42087459564208984,\n",
       "  'precision': 0.9426229508196722,\n",
       "  'recall': 0.8156028368794326,\n",
       "  'AUPRC': 0.8830980361157011,\n",
       "  'class_weight': {0: 1.0, 1: 1.0}}}"
      ]
     },
     "execution_count": 18,
     "metadata": {},
     "output_type": "execute_result"
    }
   ],
   "source": [
    "results = test(X_train, X_test, y_train, y_test)\n",
    "results"
   ]
  },
  {
   "cell_type": "markdown",
   "metadata": {},
   "source": [
    "***Evaluate and observe results after applying class weights (Appliacble to Logistic regression and ridge classifier)***"
   ]
  },
  {
   "cell_type": "code",
   "execution_count": 30,
   "metadata": {
    "ExecuteTime": {
     "end_time": "2018-06-28T02:19:01.365297Z",
     "start_time": "2018-06-28T02:18:56.099378Z"
    }
   },
   "outputs": [
    {
     "name": "stdout",
     "output_type": "stream",
     "text": [
      "RidgeClassifier trained on   samples.\n",
      "LogisticRegression trained on   samples.\n"
     ]
    },
    {
     "data": {
      "text/plain": [
       "{'RidgeClassifier': {'train_time': 0.33410072326660156,\n",
       "  'test_time': 0.00797891616821289,\n",
       "  'precision': 0.8095238095238095,\n",
       "  'recall': 0.48226950354609927,\n",
       "  'AUPRC': 0.7528416377988387,\n",
       "  'class_weight': {0: 1.0, 1: 2}},\n",
       " 'LogisticRegression': {'train_time': 4.797168016433716,\n",
       "  'test_time': 0.007976770401000977,\n",
       "  'precision': 0.7666666666666667,\n",
       "  'recall': 0.8156028368794326,\n",
       "  'AUPRC': 0.7730984406179198,\n",
       "  'class_weight': {0: 1.0, 1: 2}}}"
      ]
     },
     "execution_count": 30,
     "metadata": {},
     "output_type": "execute_result"
    }
   ],
   "source": [
    "class_weight = {0: 1., 1: 2}\n",
    "results = test(X_train, X_test, y_train, y_test, class_weight)\n",
    "results"
   ]
  },
  {
   "cell_type": "markdown",
   "metadata": {},
   "source": [
    "# Working on the challenge of unbalanced datset"
   ]
  },
  {
   "cell_type": "markdown",
   "metadata": {},
   "source": [
    "We have already tried penalizing the dominating class by using class weights. We can now further try and improve results by using resampling the training data using oversampling oe undersampling techniques.\n",
    "I'm focussing on resampling by oversampling the minority class by using a technique called SMOTE(Synthetic Minority Over-Sampling Technique)"
   ]
  },
  {
   "cell_type": "code",
   "execution_count": 20,
   "metadata": {
    "ExecuteTime": {
     "end_time": "2018-06-28T01:41:04.820559Z",
     "start_time": "2018-06-28T01:41:03.399362Z"
    },
    "scrolled": true
   },
   "outputs": [
    {
     "name": "stdout",
     "output_type": "stream",
     "text": [
      "Resampled dataset shape Counter({0: 199013, 1: 199013})\n"
     ]
    }
   ],
   "source": [
    "sm = SMOTE(random_state=42)\n",
    "X_res, y_res = sm.fit_sample(X_train, y_train)\n",
    "print('Resampled dataset shape {}'.format(Counter(y_res)))"
   ]
  },
  {
   "cell_type": "code",
   "execution_count": 21,
   "metadata": {
    "ExecuteTime": {
     "end_time": "2018-06-28T01:41:04.977199Z",
     "start_time": "2018-06-28T01:41:04.822554Z"
    }
   },
   "outputs": [],
   "source": [
    "#Split resampled data into training and testing sets\n",
    "X_train_res, X_test_res , y_train_res, y_test_res =get_train_test_data(X_res,y_res)"
   ]
  },
  {
   "cell_type": "markdown",
   "metadata": {},
   "source": [
    "## Testing on Oversampled dataset - Compare Adaboost,Ridge and Logistic regression with each other "
   ]
  },
  {
   "cell_type": "code",
   "execution_count": 22,
   "metadata": {
    "ExecuteTime": {
     "end_time": "2018-06-28T01:42:58.468599Z",
     "start_time": "2018-06-28T01:41:04.979134Z"
    }
   },
   "outputs": [
    {
     "name": "stdout",
     "output_type": "stream",
     "text": [
      "KFold(n_splits=2, random_state=None, shuffle=False)\n",
      "TRAIN: [139309 139310 139311 ... 278615 278616 278617] TEST: [     0      1      2 ... 139306 139307 139308]\n",
      "AdaBoostClassifier trained on   samples.\n",
      "RidgeClassifier trained on   samples.\n",
      "LogisticRegression trained on   samples.\n",
      "Booster trained on   samples.\n",
      "*******************RESULTS FROM FOLD************************************\n",
      "{    'AdaBoostClassifier': {    'AUPRC': 0.9961764266571801,\n",
      "                                'class_weight': {0: 1.0, 1: 1.0},\n",
      "                                'precision': 0.9743802253725918,\n",
      "                                'recall': 0.9579306992967008,\n",
      "                                'test_time': 1.3134875297546387,\n",
      "                                'train_time': 40.81581163406372},\n",
      "     'Booster': {    'AUPRC': 0.9999812087263019,\n",
      "                     'class_weight': {0: 1.0, 1: 1.0},\n",
      "                     'precision': 0.9991002442194261,\n",
      "                     'recall': 1.0,\n",
      "                     'test_time': 1.1030511856079102,\n",
      "                     'train_time': 7.546810150146484},\n",
      "     'LogisticRegression': {    'AUPRC': 0.9889523405271476,\n",
      "                                'class_weight': {0: 1.0, 1: 1.0},\n",
      "                                'precision': 0.9697643600249806,\n",
      "                                'recall': 0.9100863399851336,\n",
      "                                'test_time': 0.010971546173095703,\n",
      "                                'train_time': 3.192462205886841},\n",
      "     'RidgeClassifier': {    'AUPRC': 0.97673966198219,\n",
      "                             'class_weight': {0: 1.0, 1: 1.0},\n",
      "                             'precision': 0.9833554699978143,\n",
      "                             'recall': 0.836082680542055,\n",
      "                             'test_time': 0.01695537567138672,\n",
      "                             'train_time': 0.2074437141418457}}\n",
      "TRAIN: [     0      1      2 ... 139306 139307 139308] TEST: [139309 139310 139311 ... 278615 278616 278617]\n",
      "AdaBoostClassifier trained on   samples.\n",
      "RidgeClassifier trained on   samples.\n",
      "LogisticRegression trained on   samples.\n",
      "Booster trained on   samples.\n",
      "*******************RESULTS FROM FOLD************************************\n",
      "{    'AdaBoostClassifier': {    'AUPRC': 0.9960459158516126,\n",
      "                                'class_weight': {0: 1.0, 1: 1.0},\n",
      "                                'precision': 0.9735921420520253,\n",
      "                                'recall': 0.9559324469996406,\n",
      "                                'test_time': 1.3254554271697998,\n",
      "                                'train_time': 40.73006272315979},\n",
      "     'Booster': {    'AUPRC': 0.9999208236297616,\n",
      "                     'class_weight': {0: 1.0, 1: 1.0},\n",
      "                     'precision': 0.9990809747411652,\n",
      "                     'recall': 1.0,\n",
      "                     'test_time': 1.1589007377624512,\n",
      "                     'train_time': 7.7861738204956055},\n",
      "     'LogisticRegression': {    'AUPRC': 0.9886757960009174,\n",
      "                                'class_weight': {0: 1.0, 1: 1.0},\n",
      "                                'precision': 0.9671444726305816,\n",
      "                                'recall': 0.9096370822853036,\n",
      "                                'test_time': 0.010969400405883789,\n",
      "                                'train_time': 4.210738658905029},\n",
      "     'RidgeClassifier': {    'AUPRC': 0.9757169985250427,\n",
      "                             'class_weight': {0: 1.0, 1: 1.0},\n",
      "                             'precision': 0.9825759240168326,\n",
      "                             'recall': 0.8356449874236436,\n",
      "                             'test_time': 0.01496124267578125,\n",
      "                             'train_time': 0.19746875762939453}}\n"
     ]
    }
   ],
   "source": [
    "from sklearn.model_selection import KFold\n",
    "import pprint\n",
    "pp = pprint.PrettyPrinter(indent=5)\n",
    "kf = KFold(n_splits=2)\n",
    "kf.get_n_splits(X_train_res)\n",
    "print(kf)\n",
    "\n",
    "for train_index, test_index in kf.split(X_train_res):\n",
    "    print(\"TRAIN:\", train_index, \"TEST:\", test_index)\n",
    "    X_traink, X_testk = X_train_res[train_index], X_train_res[test_index]\n",
    "    y_traink, y_testk = y_train_res[train_index], y_train_res[test_index]\n",
    "    results = test(X_traink, X_testk , y_traink, y_testk)\n",
    "    print(\"*******************RESULTS FROM FOLD************************************\")\n",
    "    pp.pprint(results)"
   ]
  },
  {
   "cell_type": "markdown",
   "metadata": {},
   "source": [
    "***Evaluate and observe results after applying class weights (Appliacble to Logistic regression and ridge classifier)***"
   ]
  },
  {
   "cell_type": "code",
   "execution_count": 31,
   "metadata": {
    "ExecuteTime": {
     "end_time": "2018-06-28T02:26:17.748443Z",
     "start_time": "2018-06-28T02:26:10.537731Z"
    }
   },
   "outputs": [
    {
     "name": "stdout",
     "output_type": "stream",
     "text": [
      "KFold(n_splits=2, random_state=None, shuffle=False)\n",
      "TRAIN: [139309 139310 139311 ... 278615 278616 278617] TEST: [     0      1      2 ... 139306 139307 139308]\n",
      "RidgeClassifier trained on   samples.\n",
      "LogisticRegression trained on   samples.\n",
      "*******************RESULTS FROM FOLD***WITH CLASS WEIGHTS**************************\n",
      "{    'LogisticRegression': {    'AUPRC': 0.9893194006373869,\n",
      "                                'class_weight': {0: 1.0, 1: 2},\n",
      "                                'precision': 0.9394557334673656,\n",
      "                                'recall': 0.9351449482531877,\n",
      "                                'test_time': 0.010970354080200195,\n",
      "                                'train_time': 2.8792996406555176},\n",
      "     'RidgeClassifier': {    'AUPRC': 0.9687854754626479,\n",
      "                             'class_weight': {0: 1.0, 1: 2},\n",
      "                             'precision': 0.8956826927142797,\n",
      "                             'recall': 0.9083709760420836,\n",
      "                             'test_time': 0.013962745666503906,\n",
      "                             'train_time': 0.23935723304748535}}\n",
      "TRAIN: [     0      1      2 ... 139306 139307 139308] TEST: [139309 139310 139311 ... 278615 278616 278617]\n",
      "RidgeClassifier trained on   samples.\n",
      "LogisticRegression trained on   samples.\n",
      "*******************RESULTS FROM FOLD***WITH CLASS WEIGHTS**************************\n",
      "{    'LogisticRegression': {    'AUPRC': 0.9889729328854808,\n",
      "                                'class_weight': {0: 1.0, 1: 2},\n",
      "                                'precision': 0.9383992157541159,\n",
      "                                'recall': 0.9355803090190442,\n",
      "                                'test_time': 0.010970354080200195,\n",
      "                                'train_time': 3.1645336151123047},\n",
      "     'RidgeClassifier': {    'AUPRC': 0.9675502821670485,\n",
      "                             'class_weight': {0: 1.0, 1: 2},\n",
      "                             'precision': 0.8930282516217477,\n",
      "                             'recall': 0.908199784405318,\n",
      "                             'test_time': 0.017957448959350586,\n",
      "                             'train_time': 0.2044515609741211}}\n"
     ]
    }
   ],
   "source": [
    "# Applying class weights on Logistic regression and ridge classifier\n",
    "class_weight = {0: 1., 1: 2}\n",
    "\n",
    "pp = pprint.PrettyPrinter(indent=5)\n",
    "kf = KFold(n_splits=2)\n",
    "kf.get_n_splits(X_train_res)\n",
    "print(kf)\n",
    "\n",
    "for train_index, test_index in kf.split(X_train_res):\n",
    "    print(\"TRAIN:\", train_index, \"TEST:\", test_index)\n",
    "    X_traink, X_testk = X_train_res[train_index], X_train_res[test_index]\n",
    "    y_traink, y_testk = y_train_res[train_index], y_train_res[test_index]\n",
    "    results = test(X_traink, X_testk , y_traink, y_testk, class_weight=class_weight)\n",
    "    print(\"*******************RESULTS FROM FOLD***WITH CLASS WEIGHTS**************************\")\n",
    "    pp.pprint(results)"
   ]
  },
  {
   "cell_type": "markdown",
   "metadata": {},
   "source": [
    "## Light Gradient Boosting(LGB) - BEST MODEL"
   ]
  },
  {
   "cell_type": "markdown",
   "metadata": {},
   "source": [
    "### AUPRC Curve"
   ]
  },
  {
   "cell_type": "code",
   "execution_count": 24,
   "metadata": {
    "ExecuteTime": {
     "end_time": "2018-06-28T01:43:21.758306Z",
     "start_time": "2018-06-28T01:43:05.897727Z"
    }
   },
   "outputs": [
    {
     "data": {
      "text/plain": [
       "0.8902430147019637"
      ]
     },
     "execution_count": 24,
     "metadata": {},
     "output_type": "execute_result"
    }
   ],
   "source": [
    "# Train and Test LGB Model only to get the confudion matrix\n",
    "d_train = lgb.Dataset(X_train_res, label=y_train_res)\n",
    "clf = LGB(d_train)\n",
    "y_pred = clf.predict(X_test)\n",
    "AUPRC_lgb = average_precision_score(y_test,y_pred)\n",
    "AUPRC_lgb"
   ]
  },
  {
   "cell_type": "code",
   "execution_count": 25,
   "metadata": {
    "ExecuteTime": {
     "end_time": "2018-06-28T01:43:22.203116Z",
     "start_time": "2018-06-28T01:43:21.761299Z"
    },
    "scrolled": true
   },
   "outputs": [
    {
     "data": {
      "text/plain": [
       "Text(0.5,1,'2-class Precision-Recall curve: AP=0.8902')"
      ]
     },
     "execution_count": 25,
     "metadata": {},
     "output_type": "execute_result"
    },
    {
     "data": {
      "image/png": "[encoded data removed]",
      "text/plain": [
       "<Figure size 432x288 with 1 Axes>"
      ]
     },
     "metadata": {},
     "output_type": "display_data"
    }
   ],
   "source": [
    "#Plotting AUPRC for the BEST Model\n",
    "AUPRC = average_precision_score(y_test,y_pred)\n",
    "precision, recall, _ = precision_recall_curve(y_test, y_pred)\n",
    "plt.step(recall, precision, color='b', alpha=0.2,\n",
    "         where='post')\n",
    "plt.fill_between(recall, precision, step='post', alpha=0.2,\n",
    "                 color='b')\n",
    "plt.xlabel('Recall')\n",
    "plt.ylabel('Precision')\n",
    "plt.ylim([0.0, 1.05])\n",
    "plt.xlim([0.0, 1.0])\n",
    "plt.title('2-class Precision-Recall curve: AP={0:0.4f}'.format(\n",
    "          AUPRC))\n"
   ]
  },
  {
   "cell_type": "code",
   "execution_count": 26,
   "metadata": {
    "ExecuteTime": {
     "end_time": "2018-06-28T01:43:22.266949Z",
     "start_time": "2018-06-28T01:43:22.206110Z"
    }
   },
   "outputs": [],
   "source": [
    "precision=precision_score(y_test, y_pred.round())\n",
    "recall = recall_score(y_test, y_pred.round())"
   ]
  },
  {
   "cell_type": "code",
   "execution_count": 27,
   "metadata": {
    "ExecuteTime": {
     "end_time": "2018-06-28T01:43:22.281907Z",
     "start_time": "2018-06-28T01:43:22.269937Z"
    }
   },
   "outputs": [
    {
     "name": "stdout",
     "output_type": "stream",
     "text": [
      "Average precision-recall score: 0.8902\n",
      "Precision score: 0.71\n",
      "Recall score: 0.89\n"
     ]
    }
   ],
   "source": [
    "print('Average precision-recall score: {0:0.4f}'.format(\n",
    "      AUPRC))\n",
    "print('Precision score: {0:0.2f}'.format(\n",
    "      precision))\n",
    "print('Recall score: {0:0.2f}'.format(\n",
    "      recall))"
   ]
  },
  {
   "cell_type": "markdown",
   "metadata": {},
   "source": [
    "### Plotting confusion Matrix"
   ]
  },
  {
   "cell_type": "code",
   "execution_count": 28,
   "metadata": {
    "ExecuteTime": {
     "end_time": "2018-06-28T01:43:22.915222Z",
     "start_time": "2018-06-28T01:43:22.284898Z"
    }
   },
   "outputs": [
    {
     "name": "stdout",
     "output_type": "stream",
     "text": [
      "Confusion matrix, without normalization\n",
      "[[85250    52]\n",
      " [   15   126]]\n",
      "Normalized confusion matrix\n",
      "[[9.99e-01 6.10e-04]\n",
      " [1.06e-01 8.94e-01]]\n"
     ]
    },
    {
     "data": {
      "image/png": "[encoded data removed]",
      "text/plain": [
       "<Figure size 432x288 with 2 Axes>"
      ]
     },
     "metadata": {},
     "output_type": "display_data"
    },
    {
     "data": {
      "image/png": "[encoded data removed]",
      "text/plain": [
       "<Figure size 432x288 with 2 Axes>"
      ]
     },
     "metadata": {},
     "output_type": "display_data"
    }
   ],
   "source": [
    "def plot_confusion_matrix(cm, classes,\n",
    "                          normalize=False,\n",
    "                          title='Confusion matrix',\n",
    "                          cmap=plt.cm.Blues):\n",
    "    \"\"\"\n",
    "    This function prints and plots the confusion matrix.\n",
    "    Normalization can be applied by setting `normalize=True`.\n",
    "    \"\"\"\n",
    "    if normalize:\n",
    "        cm = cm.astype('float') / cm.sum(axis=1)[:, np.newaxis]\n",
    "        print(\"Normalized confusion matrix\")\n",
    "    else:\n",
    "        print('Confusion matrix, without normalization')\n",
    "\n",
    "    print(cm)\n",
    "\n",
    "    plt.imshow(cm, interpolation='nearest', cmap=cmap)\n",
    "    plt.title(title)\n",
    "    plt.colorbar()\n",
    "    tick_marks = np.arange(len(classes))\n",
    "    plt.xticks(tick_marks, classes, rotation=45)\n",
    "    plt.yticks(tick_marks, classes)\n",
    "\n",
    "    fmt = '.2f' if normalize else 'd'\n",
    "    thresh = cm.max() / 2.\n",
    "    for i, j in itertools.product(range(cm.shape[0]), range(cm.shape[1])):\n",
    "        plt.text(j, i, format(cm[i, j], fmt),\n",
    "                 horizontalalignment=\"center\",\n",
    "                 color=\"white\" if cm[i, j] > thresh else \"black\")\n",
    "\n",
    "    plt.tight_layout()\n",
    "    plt.ylabel('True label')\n",
    "    plt.xlabel('Predicted label')\n",
    "\n",
    "# Compute confusion matrix\n",
    "cnf_matrix = confusion_matrix(y_test, y_pred.round())\n",
    "np.set_printoptions(precision=2)\n",
    "\n",
    "# Plot non-normalized confusion matrix\n",
    "plt.figure()\n",
    "plot_confusion_matrix(cnf_matrix, classes=['0', '1'],\n",
    "                      title='Confusion matrix')\n",
    "\n",
    "# Plot normalized confusion matrix\n",
    "plt.figure()\n",
    "plot_confusion_matrix(cnf_matrix, classes=['0', '1'], normalize=True,\n",
    "                      title='Normalized confusion matrix')\n",
    "\n",
    "plt.show()"
   ]
  }
 ],
 "metadata": {
  "kernelspec": {
   "display_name": "Python 3",
   "language": "python",
   "name": "python3"
  },
  "language_info": {
   "codemirror_mode": {
    "name": "ipython",
    "version": 3
   },
   "file_extension": ".py",
   "mimetype": "text/x-python",
   "name": "python",
   "nbconvert_exporter": "python",
   "pygments_lexer": "ipython3",
   "version": "3.6.5"
  }
 },
 "nbformat": 4,
 "nbformat_minor": 2
}
